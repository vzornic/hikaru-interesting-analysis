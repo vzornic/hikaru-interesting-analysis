{
 "cells": [
  {
   "cell_type": "markdown",
   "source": [
    "# Analysis\n",
    "\n",
    "In this notebook we'll analyze the data we've extracted before. Our goal here is to get more insights into games that Hikaru played and check if \"interesting\" streak that GM Kramnik referred to contains any unusual patterns that may lead us to think that Hikaru may be cheating.\n",
    "\n",
    "To understand some of the stats/data we are working here you have to be familiar with data we extracted and enriched in [data](data.ipynb). "
   ],
   "metadata": {
    "collapsed": false
   },
   "id": "b3bc62e6e4577a4"
  },
  {
   "cell_type": "markdown",
   "source": [
    "Here I'll just install some libs that we'll need for future work in this notebook."
   ],
   "metadata": {
    "collapsed": false
   },
   "id": "feb7277636d54fa3"
  },
  {
   "cell_type": "code",
   "execution_count": 162,
   "id": "initial_id",
   "metadata": {
    "collapsed": true,
    "ExecuteTime": {
     "end_time": "2024-01-04T22:07:47.340935Z",
     "start_time": "2024-01-04T22:07:42.296307Z"
    }
   },
   "outputs": [
    {
     "name": "stdout",
     "output_type": "stream",
     "text": [
      "Requirement already satisfied: pandas in ./venv/lib/python3.10/site-packages (2.1.4)\r\n",
      "Requirement already satisfied: matplotlib in ./venv/lib/python3.10/site-packages (3.8.2)\r\n",
      "Requirement already satisfied: numpy<2,>=1.22.4 in ./venv/lib/python3.10/site-packages (from pandas) (1.26.2)\r\n",
      "Requirement already satisfied: python-dateutil>=2.8.2 in ./venv/lib/python3.10/site-packages (from pandas) (2.8.2)\r\n",
      "Requirement already satisfied: pytz>=2020.1 in ./venv/lib/python3.10/site-packages (from pandas) (2023.3.post1)\r\n",
      "Requirement already satisfied: tzdata>=2022.1 in ./venv/lib/python3.10/site-packages (from pandas) (2023.3)\r\n",
      "Requirement already satisfied: contourpy>=1.0.1 in ./venv/lib/python3.10/site-packages (from matplotlib) (1.2.0)\r\n",
      "Requirement already satisfied: cycler>=0.10 in ./venv/lib/python3.10/site-packages (from matplotlib) (0.12.1)\r\n",
      "Requirement already satisfied: fonttools>=4.22.0 in ./venv/lib/python3.10/site-packages (from matplotlib) (4.47.0)\r\n",
      "Requirement already satisfied: kiwisolver>=1.3.1 in ./venv/lib/python3.10/site-packages (from matplotlib) (1.4.5)\r\n",
      "Requirement already satisfied: packaging>=20.0 in ./venv/lib/python3.10/site-packages (from matplotlib) (23.2)\r\n",
      "Requirement already satisfied: pillow>=8 in ./venv/lib/python3.10/site-packages (from matplotlib) (10.1.0)\r\n",
      "Requirement already satisfied: pyparsing>=2.3.1 in ./venv/lib/python3.10/site-packages (from matplotlib) (3.1.1)\r\n",
      "Requirement already satisfied: six>=1.5 in ./venv/lib/python3.10/site-packages (from python-dateutil>=2.8.2->pandas) (1.16.0)\r\n",
      "\r\n",
      "\u001B[1m[\u001B[0m\u001B[34;49mnotice\u001B[0m\u001B[1;39;49m]\u001B[0m\u001B[39;49m A new release of pip is available: \u001B[0m\u001B[31;49m23.2.1\u001B[0m\u001B[39;49m -> \u001B[0m\u001B[32;49m23.3.2\u001B[0m\r\n",
      "\u001B[1m[\u001B[0m\u001B[34;49mnotice\u001B[0m\u001B[1;39;49m]\u001B[0m\u001B[39;49m To update, run: \u001B[0m\u001B[32;49mpip install --upgrade pip\u001B[0m\r\n",
      "Requirement already satisfied: seaborn in ./venv/lib/python3.10/site-packages (0.13.0)\r\n",
      "Requirement already satisfied: numpy!=1.24.0,>=1.20 in ./venv/lib/python3.10/site-packages (from seaborn) (1.26.2)\r\n",
      "Requirement already satisfied: pandas>=1.2 in ./venv/lib/python3.10/site-packages (from seaborn) (2.1.4)\r\n",
      "Requirement already satisfied: matplotlib!=3.6.1,>=3.3 in ./venv/lib/python3.10/site-packages (from seaborn) (3.8.2)\r\n",
      "Requirement already satisfied: contourpy>=1.0.1 in ./venv/lib/python3.10/site-packages (from matplotlib!=3.6.1,>=3.3->seaborn) (1.2.0)\r\n",
      "Requirement already satisfied: cycler>=0.10 in ./venv/lib/python3.10/site-packages (from matplotlib!=3.6.1,>=3.3->seaborn) (0.12.1)\r\n",
      "Requirement already satisfied: fonttools>=4.22.0 in ./venv/lib/python3.10/site-packages (from matplotlib!=3.6.1,>=3.3->seaborn) (4.47.0)\r\n",
      "Requirement already satisfied: kiwisolver>=1.3.1 in ./venv/lib/python3.10/site-packages (from matplotlib!=3.6.1,>=3.3->seaborn) (1.4.5)\r\n",
      "Requirement already satisfied: packaging>=20.0 in ./venv/lib/python3.10/site-packages (from matplotlib!=3.6.1,>=3.3->seaborn) (23.2)\r\n",
      "Requirement already satisfied: pillow>=8 in ./venv/lib/python3.10/site-packages (from matplotlib!=3.6.1,>=3.3->seaborn) (10.1.0)\r\n",
      "Requirement already satisfied: pyparsing>=2.3.1 in ./venv/lib/python3.10/site-packages (from matplotlib!=3.6.1,>=3.3->seaborn) (3.1.1)\r\n",
      "Requirement already satisfied: python-dateutil>=2.7 in ./venv/lib/python3.10/site-packages (from matplotlib!=3.6.1,>=3.3->seaborn) (2.8.2)\r\n",
      "Requirement already satisfied: pytz>=2020.1 in ./venv/lib/python3.10/site-packages (from pandas>=1.2->seaborn) (2023.3.post1)\r\n",
      "Requirement already satisfied: tzdata>=2022.1 in ./venv/lib/python3.10/site-packages (from pandas>=1.2->seaborn) (2023.3)\r\n",
      "Requirement already satisfied: six>=1.5 in ./venv/lib/python3.10/site-packages (from python-dateutil>=2.7->matplotlib!=3.6.1,>=3.3->seaborn) (1.16.0)\r\n",
      "\r\n",
      "\u001B[1m[\u001B[0m\u001B[34;49mnotice\u001B[0m\u001B[1;39;49m]\u001B[0m\u001B[39;49m A new release of pip is available: \u001B[0m\u001B[31;49m23.2.1\u001B[0m\u001B[39;49m -> \u001B[0m\u001B[32;49m23.3.2\u001B[0m\r\n",
      "\u001B[1m[\u001B[0m\u001B[34;49mnotice\u001B[0m\u001B[1;39;49m]\u001B[0m\u001B[39;49m To update, run: \u001B[0m\u001B[32;49mpip install --upgrade pip\u001B[0m\r\n",
      "Requirement already satisfied: scikit-learn in ./venv/lib/python3.10/site-packages (1.3.2)\r\n",
      "Requirement already satisfied: numpy<2.0,>=1.17.3 in ./venv/lib/python3.10/site-packages (from scikit-learn) (1.26.2)\r\n",
      "Requirement already satisfied: scipy>=1.5.0 in ./venv/lib/python3.10/site-packages (from scikit-learn) (1.11.4)\r\n",
      "Requirement already satisfied: joblib>=1.1.1 in ./venv/lib/python3.10/site-packages (from scikit-learn) (1.3.2)\r\n",
      "Requirement already satisfied: threadpoolctl>=2.0.0 in ./venv/lib/python3.10/site-packages (from scikit-learn) (3.2.0)\r\n",
      "\r\n",
      "\u001B[1m[\u001B[0m\u001B[34;49mnotice\u001B[0m\u001B[1;39;49m]\u001B[0m\u001B[39;49m A new release of pip is available: \u001B[0m\u001B[31;49m23.2.1\u001B[0m\u001B[39;49m -> \u001B[0m\u001B[32;49m23.3.2\u001B[0m\r\n",
      "\u001B[1m[\u001B[0m\u001B[34;49mnotice\u001B[0m\u001B[1;39;49m]\u001B[0m\u001B[39;49m To update, run: \u001B[0m\u001B[32;49mpip install --upgrade pip\u001B[0m\r\n",
      "Requirement already satisfied: tabulate in ./venv/lib/python3.10/site-packages (0.9.0)\r\n",
      "\r\n",
      "\u001B[1m[\u001B[0m\u001B[34;49mnotice\u001B[0m\u001B[1;39;49m]\u001B[0m\u001B[39;49m A new release of pip is available: \u001B[0m\u001B[31;49m23.2.1\u001B[0m\u001B[39;49m -> \u001B[0m\u001B[32;49m23.3.2\u001B[0m\r\n",
      "\u001B[1m[\u001B[0m\u001B[34;49mnotice\u001B[0m\u001B[1;39;49m]\u001B[0m\u001B[39;49m To update, run: \u001B[0m\u001B[32;49mpip install --upgrade pip\u001B[0m\r\n"
     ]
    }
   ],
   "source": [
    "!pip install pandas matplotlib\n",
    "!pip install seaborn\n",
    "!pip install scikit-learn\n",
    "!pip install tabulate"
   ]
  },
  {
   "cell_type": "code",
   "execution_count": 163,
   "outputs": [],
   "source": [
    "import pandas as pd\n",
    "import matplotlib.pyplot as plt\n",
    "import json\n",
    "import numpy as np\n",
    "import seaborn as sns\n",
    "\n",
    "pd.options.mode.chained_assignment = None  # default='warn'\n"
   ],
   "metadata": {
    "collapsed": false,
    "ExecuteTime": {
     "end_time": "2024-01-04T22:07:47.362706Z",
     "start_time": "2024-01-04T22:07:47.345097Z"
    }
   },
   "id": "46be1fddb4d10a43"
  },
  {
   "cell_type": "markdown",
   "source": [
    "Load the data we have extracted"
   ],
   "metadata": {
    "collapsed": false
   },
   "id": "2147a9479e09239f"
  },
  {
   "cell_type": "code",
   "execution_count": 164,
   "outputs": [],
   "source": [
    "with open('./data/enriched/enriched_games_2023.jsonl', 'r') as json_file:\n",
    "    all_games = [json.loads(line) for line in json_file]\n",
    " \n",
    "\n",
    "def enrich_with_only_move(game):\n",
    "    previous_move = None\n",
    "    \n",
    "    if game.get('moves', None) is None:\n",
    "        return game\n",
    "\n",
    "    for move in game['moves']:\n",
    "        if previous_move is None:\n",
    "            previous_move = move\n",
    "            continue\n",
    "\n",
    "        best_move = move['best_move']\n",
    "\n",
    "        if best_move and previous_move['eval_flags'].get('inaccuracy', False):\n",
    "            move['only_move_on_inaccuracy'] = True\n",
    "\n",
    "        if best_move and previous_move['eval_flags'].get('mistake', False):\n",
    "            move['only_move_on_mistake'] = True\n",
    "\n",
    "        if best_move and previous_move['eval_flags'].get('blunder', False):\n",
    "            move['only_move_on_blunder'] = True\n",
    "\n",
    "        opponent_time_diff = move['time_left'] - previous_move['time_left']\n",
    "        move['opponent_time_diff'] = opponent_time_diff\n",
    "        move['only_move'] = any([move.get('only_move_on_inaccuracy', False), move.get('only_move_on_mistake', False), move.get('only_move_on_blunder', False)])\n",
    "\n",
    "        previous_move = move\n",
    "\n",
    "    return game\n",
    "\n",
    "for game in all_games:\n",
    "    enrich_with_only_move(game)"
   ],
   "metadata": {
    "collapsed": false,
    "ExecuteTime": {
     "end_time": "2024-01-04T22:07:50.586526Z",
     "start_time": "2024-01-04T22:07:47.350809Z"
    }
   },
   "id": "52599c6798d78433"
  },
  {
   "cell_type": "markdown",
   "source": [
    "and convert them into pandas data frame"
   ],
   "metadata": {
    "collapsed": false
   },
   "id": "850a10dcdcd4966a"
  },
  {
   "cell_type": "code",
   "execution_count": 165,
   "outputs": [],
   "source": [
    "all_games_df = pd.json_normalize(all_games)"
   ],
   "metadata": {
    "collapsed": false,
    "ExecuteTime": {
     "end_time": "2024-01-04T22:07:51.020255Z",
     "start_time": "2024-01-04T22:07:50.614377Z"
    }
   },
   "id": "bad6c243e4c486c3"
  },
  {
   "cell_type": "markdown",
   "source": [
    "Now we will add some more columns that may be useful for our statistic to this dataframe"
   ],
   "metadata": {
    "collapsed": false
   },
   "id": "da0fa7f6e65e5c5b"
  },
  {
   "cell_type": "code",
   "execution_count": 166,
   "outputs": [],
   "source": [
    "all_games_df['win'] = all_games_df['hikaru_stats.win'] * 100\n",
    "all_games_df['timeout_win'] = all_games_df['hikaru_stats.is_timeout_win'] * 100\n",
    "all_games_df['win1'] = all_games_df['hikaru_stats.was_losing_gte_1_but_won'] * 100\n",
    "all_games_df['win2'] = all_games_df['hikaru_stats.was_losing_gte_2_but_won'] * 100\n",
    "all_games_df['win3'] = all_games_df['hikaru_stats.was_losing_gte_3_but_won'] * 100\n",
    "all_games_df['win4'] = all_games_df['hikaru_stats.was_losing_gte_4_but_won'] * 100\n",
    "all_games_df['win5'] = all_games_df['hikaru_stats.was_losing_gte_5_but_won'] * 100\n",
    "all_games_df['hikaru_color'] = all_games_df.apply(lambda row: 'White' if row['white.username'] == \"Hikaru\"  else 'Black', axis=1)\n",
    "all_games_df['draw'] = all_games_df.apply(lambda row: (True if row.get('white.result', None) in ['repetition', 'agreed', 'insufficient', 'stalemate', '50move', 'timevsinsufficient'] else False) * 100, axis=1)\n",
    "\n",
    "def is_game_lost(row):\n",
    "    color = row['hikaru_color'].lower()\n",
    "    result = row[f'{color}.result']\n",
    "    \n",
    "    return True if result in ['resigned', 'timeout', 'checkmated'] else False\n",
    "\n",
    "def get_win_reason(row):\n",
    "    #get opponent color to get loosing reason\n",
    "    if row['win'] == 100:\n",
    "        color = 'white' if row['hikaru_color'].lower() == 'black' else 'black'\n",
    "        return row[f'{color}.result']\n",
    "    return None\n",
    "\n",
    "all_games_df['win_reason'] = all_games_df.apply(lambda row: get_win_reason(row), axis=1)\n",
    "all_games_df['loose'] = all_games_df.apply(lambda row: is_game_lost(row) * 100, axis=1)\n",
    "\n",
    "all_games_df['hikaru_stats.good_moves_perc_sum'] = all_games_df['hikaru_stats.best_move_perc'] + all_games_df['hikaru_stats.excellent_move_perc'] + all_games_df['hikaru_stats.good_move_perc']\n",
    "all_games_df['hikaru_stats.bad_moves_perc_sum'] = all_games_df['hikaru_stats.inaccuracy_move_perc'] + all_games_df['hikaru_stats.mistake_move_perc'] + all_games_df['hikaru_stats.blunder_move_perc']\n",
    "\n",
    "all_games_df['opponent_stats.good_moves_perc_sum'] = all_games_df['opponent_stats.best_move_perc'] + all_games_df['opponent_stats.excellent_move_perc'] + all_games_df['opponent_stats.good_move_perc']\n",
    "all_games_df['opponent_stats.bad_moves_perc_sum'] = all_games_df['opponent_stats.inaccuracy_move_perc'] + all_games_df['opponent_stats.mistake_move_perc'] + all_games_df['opponent_stats.blunder_move_perc']\n",
    "\n",
    "bins = range(2000, 3500, 100)  # creating rating range buckets\n",
    "all_games_df['rating_bin'] = pd.cut(all_games_df['hikaru_stats.opponent_rating'], bins=bins)\n",
    "all_games_df['main_time_control'] = all_games_df['time_control'].apply(lambda x: int(x.split('+')[0]))\n",
    "all_games_df['increment'] = all_games_df['time_control'].apply(lambda x: 0 if len(x.split('+')) == 1  else int(x.split('+')[1]))"
   ],
   "metadata": {
    "collapsed": false,
    "ExecuteTime": {
     "end_time": "2024-01-04T22:07:51.183513Z",
     "start_time": "2024-01-04T22:07:51.029008Z"
    }
   },
   "id": "ae62ad1a1c06ae32"
  },
  {
   "cell_type": "markdown",
   "source": [
    "Now we will isolate \"interesting\" streak games into separate DF."
   ],
   "metadata": {
    "collapsed": false
   },
   "id": "3c9889d17bd3c157"
  },
  {
   "cell_type": "code",
   "execution_count": 167,
   "outputs": [
    {
     "data": {
      "text/plain": "time_control\n180    44\nName: count, dtype: int64"
     },
     "execution_count": 167,
     "metadata": {},
     "output_type": "execute_result"
    }
   ],
   "source": [
    "start_streak_uuid = '5c232585-84b8-11ee-9446-6cfe544c0428'\n",
    "end_streak_uuid = 'e565825f-858a-11ee-9c40-6cfe544c0428'\n",
    "\n",
    "streak_start_index = all_games_df.index[all_games_df['uuid'] == start_streak_uuid].tolist()[0]\n",
    "streak_end_index = all_games_df.index[all_games_df['uuid'] == end_streak_uuid].tolist()[0]\n",
    "streak_games_df = all_games_df.iloc[streak_start_index:streak_end_index+1]\n",
    "\n",
    "streak_games_df['time_control'].value_counts()\n"
   ],
   "metadata": {
    "collapsed": false,
    "ExecuteTime": {
     "end_time": "2024-01-04T22:07:51.196176Z",
     "start_time": "2024-01-04T22:07:51.187357Z"
    }
   },
   "id": "5d19ac0f54638"
  },
  {
   "cell_type": "markdown",
   "source": [
    "As observed, all 44 streak games are 3+0 blitz games. Now to have fair statistics, we will isolate all Hikaru's 3+0 streak games and exclude this interesting streak games so in our analysis we can compare one to another."
   ],
   "metadata": {
    "collapsed": false
   },
   "id": "6f073240d5483af4"
  },
  {
   "cell_type": "code",
   "execution_count": 168,
   "outputs": [
    {
     "data": {
      "text/plain": "time_control\n180    3640\nName: count, dtype: int64"
     },
     "execution_count": 168,
     "metadata": {},
     "output_type": "execute_result"
    }
   ],
   "source": [
    "\n",
    "ids_to_exclude = streak_games_df['uuid'].tolist()\n",
    "\n",
    "filtered_by_180_time_control_df = all_games_df.query('main_time_control == 180 & increment == 0')\n",
    "\n",
    "blitz_180_no_streak_df = filtered_by_180_time_control_df[~filtered_by_180_time_control_df['uuid'].isin(ids_to_exclude)]\n",
    "blitz_180_no_streak_df['time_control'].value_counts()"
   ],
   "metadata": {
    "collapsed": false,
    "ExecuteTime": {
     "end_time": "2024-01-04T22:07:51.399813Z",
     "start_time": "2024-01-04T22:07:51.197462Z"
    }
   },
   "id": "89a6b9de711c17b4"
  },
  {
   "cell_type": "markdown",
   "source": [
    "So we have 3640 blitz 3+0 games that we will use as base for behaviour of Hikaru. In our analysis we will compare Hikaru's streak games to this data frame."
   ],
   "metadata": {
    "collapsed": false
   },
   "id": "c727223017213f6"
  },
  {
   "cell_type": "markdown",
   "source": [
    "## On winning\n",
    "\n",
    "In this section we'll cover some stats on win data. To start off, let see how often does Hikaru win and with what color does that happen more often. As blitz makes the majority of Hikarus games, we'll use all_blitz_df from now on to produce stats."
   ],
   "metadata": {
    "collapsed": false
   },
   "id": "3460e641657ef8c7"
  },
  {
   "cell_type": "code",
   "execution_count": 169,
   "outputs": [
    {
     "data": {
      "text/plain": "                    win      draw      loose timeout_win\nhikaru_color                                            \nBlack         78.037904  8.789386  12.714207   10.702341\nWhite         82.984581  6.608411   9.939924    9.471366",
      "text/html": "<div>\n<style scoped>\n    .dataframe tbody tr th:only-of-type {\n        vertical-align: middle;\n    }\n\n    .dataframe tbody tr th {\n        vertical-align: top;\n    }\n\n    .dataframe thead th {\n        text-align: right;\n    }\n</style>\n<table border=\"1\" class=\"dataframe\">\n  <thead>\n    <tr style=\"text-align: right;\">\n      <th></th>\n      <th>win</th>\n      <th>draw</th>\n      <th>loose</th>\n      <th>timeout_win</th>\n    </tr>\n    <tr>\n      <th>hikaru_color</th>\n      <th></th>\n      <th></th>\n      <th></th>\n      <th></th>\n    </tr>\n  </thead>\n  <tbody>\n    <tr>\n      <th>Black</th>\n      <td>78.037904</td>\n      <td>8.789386</td>\n      <td>12.714207</td>\n      <td>10.702341</td>\n    </tr>\n    <tr>\n      <th>White</th>\n      <td>82.984581</td>\n      <td>6.608411</td>\n      <td>9.939924</td>\n      <td>9.471366</td>\n    </tr>\n  </tbody>\n</table>\n</div>"
     },
     "execution_count": 169,
     "metadata": {},
     "output_type": "execute_result"
    }
   ],
   "source": [
    "blitz_180_no_streak_df.groupby('hikaru_color').agg(\n",
    "    {\n",
    "        'win': 'mean',\n",
    "        'draw': 'mean',\n",
    "        'loose': 'mean',\n",
    "        'timeout_win': 'mean'\n",
    "     }\n",
    ")"
   ],
   "metadata": {
    "collapsed": false,
    "ExecuteTime": {
     "end_time": "2024-01-04T22:07:51.403237Z",
     "start_time": "2024-01-04T22:07:51.218824Z"
    }
   },
   "id": "9a3ffad867941b8d"
  },
  {
   "cell_type": "markdown",
   "source": [
    "What we see above is that Hikaru does have great win percentage in blitz, and it appears to be normally distributed for both piece colors. What is a little bit surprising is that Hikaru wins 78% of the time with black pieces as black is often considered as defensively oriented role. This shows that Hikaru has great chances of overturning roles in his games and winning lots of games even with black. \n",
    "\n",
    "Hikaru will loose only 13% of the time with black or 10% of the time with white pieces.\n",
    "\n",
    "Also, what we see here is that ~1 out of 10 games Hikaru will win on time which means Hikaru is able to \"flag\" opponents quite often."
   ],
   "metadata": {
    "collapsed": false
   },
   "id": "a79f24e4d456d729"
  },
  {
   "cell_type": "code",
   "execution_count": 170,
   "outputs": [
    {
     "data": {
      "text/plain": "hikaru_stats.opponent_username\nalexrustemov     117\nartooon          108\nNikoTheodorou     92\n0gZPanda          84\nFirouzja2003      80\nName: hikaru_stats.opponent_username, dtype: int64"
     },
     "execution_count": 170,
     "metadata": {},
     "output_type": "execute_result"
    }
   ],
   "source": [
    "grouped_by_opponent = blitz_180_no_streak_df.groupby('hikaru_stats.opponent_username', observed=True)\n",
    "\n",
    "grouped_by_opponent['hikaru_stats.opponent_username'].count().sort_values(ascending=False).head(5)"
   ],
   "metadata": {
    "collapsed": false,
    "ExecuteTime": {
     "end_time": "2024-01-04T22:07:51.403974Z",
     "start_time": "2024-01-04T22:07:51.227492Z"
    }
   },
   "id": "694ee779a5b3ec10"
  },
  {
   "cell_type": "markdown",
   "source": [
    "These are 5 players Hikaru played against most. As we can tell he does play often against same players, let's now add their average elo rating."
   ],
   "metadata": {
    "collapsed": false
   },
   "id": "cc97478569f35bce"
  },
  {
   "cell_type": "code",
   "execution_count": 171,
   "outputs": [
    {
     "data": {
      "text/plain": "                                hikaru_stats.opponent_rating\nhikaru_stats.opponent_username                              \nalexrustemov                                     2876.666667\nartooon                                          2985.398148\nNikoTheodorou                                    3051.717391\n0gZPanda                                         3001.583333\nFirouzja2003                                     3090.800000",
      "text/html": "<div>\n<style scoped>\n    .dataframe tbody tr th:only-of-type {\n        vertical-align: middle;\n    }\n\n    .dataframe tbody tr th {\n        vertical-align: top;\n    }\n\n    .dataframe thead th {\n        text-align: right;\n    }\n</style>\n<table border=\"1\" class=\"dataframe\">\n  <thead>\n    <tr style=\"text-align: right;\">\n      <th></th>\n      <th>hikaru_stats.opponent_rating</th>\n    </tr>\n    <tr>\n      <th>hikaru_stats.opponent_username</th>\n      <th></th>\n    </tr>\n  </thead>\n  <tbody>\n    <tr>\n      <th>alexrustemov</th>\n      <td>2876.666667</td>\n    </tr>\n    <tr>\n      <th>artooon</th>\n      <td>2985.398148</td>\n    </tr>\n    <tr>\n      <th>NikoTheodorou</th>\n      <td>3051.717391</td>\n    </tr>\n    <tr>\n      <th>0gZPanda</th>\n      <td>3001.583333</td>\n    </tr>\n    <tr>\n      <th>Firouzja2003</th>\n      <td>3090.800000</td>\n    </tr>\n  </tbody>\n</table>\n</div>"
     },
     "execution_count": 171,
     "metadata": {},
     "output_type": "execute_result"
    }
   ],
   "source": [
    "top_5_opponents = grouped_by_opponent['hikaru_stats.opponent_username'].count().sort_values(ascending=False).head(5).index\n",
    "top_5_df = blitz_180_no_streak_df[blitz_180_no_streak_df['hikaru_stats.opponent_username'].isin(top_5_opponents)]\n",
    "\n",
    "top_5_df.groupby('hikaru_stats.opponent_username').agg({'hikaru_stats.opponent_rating': 'mean'}).loc[top_5_opponents]"
   ],
   "metadata": {
    "collapsed": false,
    "ExecuteTime": {
     "end_time": "2024-01-04T22:07:51.404249Z",
     "start_time": "2024-01-04T22:07:51.235903Z"
    }
   },
   "id": "63366e3bb3cb173b"
  },
  {
   "cell_type": "markdown",
   "source": [
    "We can tell that top two players have quite lower rating than Hikaru while others fluctuate around 3050 which is still significantly lower rating than what Hikaru has (~3200). Now such difference in rating on chess.com does not necessarily mean that Hikaru may win always against these opponents as they themselves are also strong GMs, however it does mean that Hikaru is better and has better experience in using chess.com platform.\n",
    "\n",
    "Let's now add some other stats on these top 5. Primarily I want to see what is Hikaru win percentage against each of them and percentages on wins on time."
   ],
   "metadata": {
    "collapsed": false
   },
   "id": "b75b0cb948003d2f"
  },
  {
   "cell_type": "code",
   "execution_count": 172,
   "outputs": [
    {
     "data": {
      "text/plain": "                                hikaru_stats.opponent_rating        win  \\\nhikaru_stats.opponent_username                                            \nalexrustemov                                     2876.666667  85.470085   \nartooon                                          2985.398148  74.074074   \nNikoTheodorou                                    3051.717391  56.521739   \n0gZPanda                                         3001.583333  72.619048   \nFirouzja2003                                     3090.800000       42.5   \n\n                                     draw      loose timeout_win  \nhikaru_stats.opponent_username                                    \nalexrustemov                     6.837607   6.837607   29.059829  \nartooon                          8.333333  17.592593    1.851852  \nNikoTheodorou                   18.478261  25.000000    9.782609  \n0gZPanda                         9.523810  17.857143    4.761905  \nFirouzja2003                    23.750000  33.750000        1.25  ",
      "text/html": "<div>\n<style scoped>\n    .dataframe tbody tr th:only-of-type {\n        vertical-align: middle;\n    }\n\n    .dataframe tbody tr th {\n        vertical-align: top;\n    }\n\n    .dataframe thead th {\n        text-align: right;\n    }\n</style>\n<table border=\"1\" class=\"dataframe\">\n  <thead>\n    <tr style=\"text-align: right;\">\n      <th></th>\n      <th>hikaru_stats.opponent_rating</th>\n      <th>win</th>\n      <th>draw</th>\n      <th>loose</th>\n      <th>timeout_win</th>\n    </tr>\n    <tr>\n      <th>hikaru_stats.opponent_username</th>\n      <th></th>\n      <th></th>\n      <th></th>\n      <th></th>\n      <th></th>\n    </tr>\n  </thead>\n  <tbody>\n    <tr>\n      <th>alexrustemov</th>\n      <td>2876.666667</td>\n      <td>85.470085</td>\n      <td>6.837607</td>\n      <td>6.837607</td>\n      <td>29.059829</td>\n    </tr>\n    <tr>\n      <th>artooon</th>\n      <td>2985.398148</td>\n      <td>74.074074</td>\n      <td>8.333333</td>\n      <td>17.592593</td>\n      <td>1.851852</td>\n    </tr>\n    <tr>\n      <th>NikoTheodorou</th>\n      <td>3051.717391</td>\n      <td>56.521739</td>\n      <td>18.478261</td>\n      <td>25.000000</td>\n      <td>9.782609</td>\n    </tr>\n    <tr>\n      <th>0gZPanda</th>\n      <td>3001.583333</td>\n      <td>72.619048</td>\n      <td>9.523810</td>\n      <td>17.857143</td>\n      <td>4.761905</td>\n    </tr>\n    <tr>\n      <th>Firouzja2003</th>\n      <td>3090.800000</td>\n      <td>42.5</td>\n      <td>23.750000</td>\n      <td>33.750000</td>\n      <td>1.25</td>\n    </tr>\n  </tbody>\n</table>\n</div>"
     },
     "execution_count": 172,
     "metadata": {},
     "output_type": "execute_result"
    }
   ],
   "source": [
    "top_5_df['win'] = top_5_df['hikaru_stats.win'] * 100\n",
    "top_5_df['timeout_win'] = top_5_df['hikaru_stats.is_timeout_win'] * 100\n",
    "\n",
    "top_5_df.groupby('hikaru_stats.opponent_username').agg(\n",
    "    {\n",
    "        'hikaru_stats.opponent_rating': 'mean',\n",
    "        'win': 'mean',\n",
    "        'draw': 'mean',\n",
    "        'loose': 'mean',\n",
    "        'timeout_win': 'mean'\n",
    "     }\n",
    ").loc[top_5_opponents]\n"
   ],
   "metadata": {
    "collapsed": false,
    "ExecuteTime": {
     "end_time": "2024-01-04T22:07:51.404590Z",
     "start_time": "2024-01-04T22:07:51.247285Z"
    }
   },
   "id": "2a21c86091f6a167"
  },
  {
   "cell_type": "markdown",
   "source": [
    "We can tell that winning percentage plays well with opponent rating, as higher the opponent rating is less likely it is for Hikaru to win. What surprised me is to see that against alexrustemov Hikaru won almost 30% of games on time. This is surprisingly large number and if anything it tells us that alexrustemov should work on his time management or stop playing Hikaru at all.\n",
    "\n",
    "On other note Hikaru scored not so well against NikoTheodorou and Firouzja2003, winning just 56% and 41% which, compared to ratings, did result in Hikaru loosing his rating points.\n"
   ],
   "metadata": {
    "collapsed": false
   },
   "id": "a2b74991f02d3c53"
  },
  {
   "cell_type": "markdown",
   "source": [
    "What I want to see now is what is percentage of games that during the game Hikaru was loosing but won anyway. If you remember, in our data extraction we extracted 5 fields where hikaru was loosing by margins of 1,2,3,4,5 but won anyway so lets see this data."
   ],
   "metadata": {
    "collapsed": false
   },
   "id": "c4b081b20fc5e7ae"
  },
  {
   "cell_type": "code",
   "execution_count": 173,
   "outputs": [
    {
     "data": {
      "text/plain": "                                hikaru_stats.opponent_rating       win1  \\\nhikaru_stats.opponent_username                                            \nalexrustemov                                     2876.666667  44.444444   \nartooon                                          2985.398148  28.703704   \nNikoTheodorou                                    3051.717391  39.130435   \n0gZPanda                                         3001.583333  39.285714   \nFirouzja2003                                     3090.800000       25.0   \n\n                                     win2       win3      win4      win5  \nhikaru_stats.opponent_username                                            \nalexrustemov                    20.512821  11.965812  8.547009  2.564103  \nartooon                         13.888889   8.333333  7.407407  7.407407  \nNikoTheodorou                   15.217391   8.695652  5.434783  2.173913  \n0gZPanda                        14.285714   8.333333  7.142857  4.761905  \nFirouzja2003                         12.5       8.75      3.75       2.5  ",
      "text/html": "<div>\n<style scoped>\n    .dataframe tbody tr th:only-of-type {\n        vertical-align: middle;\n    }\n\n    .dataframe tbody tr th {\n        vertical-align: top;\n    }\n\n    .dataframe thead th {\n        text-align: right;\n    }\n</style>\n<table border=\"1\" class=\"dataframe\">\n  <thead>\n    <tr style=\"text-align: right;\">\n      <th></th>\n      <th>hikaru_stats.opponent_rating</th>\n      <th>win1</th>\n      <th>win2</th>\n      <th>win3</th>\n      <th>win4</th>\n      <th>win5</th>\n    </tr>\n    <tr>\n      <th>hikaru_stats.opponent_username</th>\n      <th></th>\n      <th></th>\n      <th></th>\n      <th></th>\n      <th></th>\n      <th></th>\n    </tr>\n  </thead>\n  <tbody>\n    <tr>\n      <th>alexrustemov</th>\n      <td>2876.666667</td>\n      <td>44.444444</td>\n      <td>20.512821</td>\n      <td>11.965812</td>\n      <td>8.547009</td>\n      <td>2.564103</td>\n    </tr>\n    <tr>\n      <th>artooon</th>\n      <td>2985.398148</td>\n      <td>28.703704</td>\n      <td>13.888889</td>\n      <td>8.333333</td>\n      <td>7.407407</td>\n      <td>7.407407</td>\n    </tr>\n    <tr>\n      <th>NikoTheodorou</th>\n      <td>3051.717391</td>\n      <td>39.130435</td>\n      <td>15.217391</td>\n      <td>8.695652</td>\n      <td>5.434783</td>\n      <td>2.173913</td>\n    </tr>\n    <tr>\n      <th>0gZPanda</th>\n      <td>3001.583333</td>\n      <td>39.285714</td>\n      <td>14.285714</td>\n      <td>8.333333</td>\n      <td>7.142857</td>\n      <td>4.761905</td>\n    </tr>\n    <tr>\n      <th>Firouzja2003</th>\n      <td>3090.800000</td>\n      <td>25.0</td>\n      <td>12.5</td>\n      <td>8.75</td>\n      <td>3.75</td>\n      <td>2.5</td>\n    </tr>\n  </tbody>\n</table>\n</div>"
     },
     "execution_count": 173,
     "metadata": {},
     "output_type": "execute_result"
    }
   ],
   "source": [
    "top_5_df.groupby('hikaru_stats.opponent_username').agg(\n",
    "    {\n",
    "        'hikaru_stats.opponent_rating': 'mean',\n",
    "        'win1': 'mean',\n",
    "        'win2': 'mean',\n",
    "        'win3': 'mean',\n",
    "        'win4': 'mean',\n",
    "        'win5': 'mean',\n",
    "     }\n",
    ").loc[top_5_opponents]"
   ],
   "metadata": {
    "collapsed": false,
    "ExecuteTime": {
     "end_time": "2024-01-04T22:07:51.426255Z",
     "start_time": "2024-01-04T22:07:51.256154Z"
    }
   },
   "id": "ea7042341f6779ea"
  },
  {
   "cell_type": "markdown",
   "source": [
    "The provided statistics align with expectations, and no unusual patterns are present. Hikaru Nakamura does have some chance of winning even when faced with a disadvantageous position. Nevertheless, as the evaluation indicating a losing position increases, his likelihood of winning decreases.\n",
    "\n",
    "Let's now look at entire dataset but first lets split it into rating range buckets."
   ],
   "metadata": {
    "collapsed": false
   },
   "id": "ef3b7529ba7700a3"
  },
  {
   "cell_type": "code",
   "execution_count": 174,
   "outputs": [
    {
     "data": {
      "text/plain": "rating_bin\n(2000, 2100]      15\n(2100, 2200]      16\n(2200, 2300]      20\n(2300, 2400]      28\n(2400, 2500]      69\n(2500, 2600]      87\n(2600, 2700]     162\n(2700, 2800]     214\n(2800, 2900]     906\n(2900, 3000]    1170\n(3000, 3100]     683\n(3100, 3200]      92\n(3200, 3300]       2\nName: hikaru_stats.opponent_rating, dtype: int64"
     },
     "execution_count": 174,
     "metadata": {},
     "output_type": "execute_result"
    }
   ],
   "source": [
    "blitz_180_no_streak_df.groupby('rating_bin', observed=True)['hikaru_stats.opponent_rating'].count()"
   ],
   "metadata": {
    "collapsed": false,
    "ExecuteTime": {
     "end_time": "2024-01-04T22:07:51.426824Z",
     "start_time": "2024-01-04T22:07:51.276484Z"
    }
   },
   "id": "a06472cedea4fb6e"
  },
  {
   "cell_type": "code",
   "execution_count": 175,
   "outputs": [
    {
     "data": {
      "text/plain": "<Figure size 1500x600 with 0 Axes>"
     },
     "metadata": {},
     "output_type": "display_data"
    },
    {
     "data": {
      "text/plain": "<Figure size 500x500 with 1 Axes>",
      "image/png": "[encoded data removed]"
     },
     "metadata": {},
     "output_type": "display_data"
    }
   ],
   "source": [
    "sns.set(style=\"whitegrid\")\n",
    "\n",
    "plt.figure(figsize=(15, 6))\n",
    "sns.displot(blitz_180_no_streak_df['hikaru_stats.opponent_rating'], kde=True, bins=20, color='skyblue')\n",
    "\n",
    "# Title and labels\n",
    "plt.title('Distribution Plot Opponents rating', fontsize=16)\n",
    "plt.xlabel('Opponent Rating', fontsize=12)\n",
    "plt.ylabel('Count', fontsize=12)\n",
    "plt.xlim(2000)\n",
    "\n",
    "# Show the plot\n",
    "plt.show()"
   ],
   "metadata": {
    "collapsed": false,
    "ExecuteTime": {
     "end_time": "2024-01-04T22:07:51.779620Z",
     "start_time": "2024-01-04T22:07:51.298314Z"
    }
   },
   "id": "f88189bd872bb9ed"
  },
  {
   "cell_type": "markdown",
   "source": [
    "As we can tell from the distribution above, it is clear that a significant portion of his matches is against opponents with notably lower ratings, potentially contributing to his proficiency in farming elo rating. Typically, his opponents fall within the rating range of 2500 to 3200. However, the majority of his games are concentrated within the narrower span of 2800 to 3000.\n",
    "\n",
    "Now, let's delve into additional statistics specific to each rating range.\n"
   ],
   "metadata": {
    "collapsed": false
   },
   "id": "56e175846ec0af5f"
  },
  {
   "cell_type": "code",
   "execution_count": 176,
   "outputs": [
    {
     "data": {
      "text/plain": "                    win       draw      loose timeout_win       win1  \\\nrating_bin                                                             \n(2000, 2100]  93.333333   0.000000   0.000000         0.0       60.0   \n(2100, 2200]      68.75   0.000000   6.250000         0.0      43.75   \n(2200, 2300]      100.0   0.000000   0.000000        25.0       60.0   \n(2300, 2400]  78.571429   0.000000   7.142857   14.285714  53.571429   \n(2400, 2500]  98.550725   0.000000   1.449275   13.043478  50.724638   \n(2500, 2600]  91.954023   2.298851   4.597701   11.494253  54.022989   \n(2600, 2700]  94.444444   1.851852   3.086420   11.111111  51.851852   \n(2700, 2800]  95.327103   2.336449   2.336449   10.280374  44.859813   \n(2800, 2900]  89.403974   5.298013   5.187638   13.245033   44.15011   \n(2900, 3000]  78.547009   8.632479  12.735043    9.230769  39.059829   \n(3000, 3100]  62.518302  14.348463  23.133236    8.931186  34.407028   \n(3100, 3200]  48.913043  18.478261  32.608696    4.347826  26.086957   \n(3200, 3300]        0.0  50.000000  50.000000         0.0        0.0   \n\n                   win2       win3       win4       win5  \nrating_bin                                                \n(2000, 2100]  46.666667  26.666667  13.333333   6.666667  \n(2100, 2200]       37.5      31.25       25.0      18.75  \n(2200, 2300]       40.0       40.0       35.0       20.0  \n(2300, 2400]  32.142857       25.0  21.428571  17.857143  \n(2400, 2500]  26.086957   21.73913  17.391304  14.492754  \n(2500, 2600]  37.931034  24.137931   19.54023  16.091954  \n(2600, 2700]  27.777778  19.135802  13.580247  11.728395  \n(2700, 2800]  22.897196   17.28972  13.084112   8.878505  \n(2800, 2900]  23.509934  15.562914   11.92053   8.278146  \n(2900, 3000]  19.401709  12.991453   9.316239   6.239316  \n(3000, 3100]   17.27672  12.005857   8.784773   6.149341  \n(3100, 3200]  10.869565   6.521739    3.26087    3.26087  \n(3200, 3300]        0.0        0.0        0.0        0.0  ",
      "text/html": "<div>\n<style scoped>\n    .dataframe tbody tr th:only-of-type {\n        vertical-align: middle;\n    }\n\n    .dataframe tbody tr th {\n        vertical-align: top;\n    }\n\n    .dataframe thead th {\n        text-align: right;\n    }\n</style>\n<table border=\"1\" class=\"dataframe\">\n  <thead>\n    <tr style=\"text-align: right;\">\n      <th></th>\n      <th>win</th>\n      <th>draw</th>\n      <th>loose</th>\n      <th>timeout_win</th>\n      <th>win1</th>\n      <th>win2</th>\n      <th>win3</th>\n      <th>win4</th>\n      <th>win5</th>\n    </tr>\n    <tr>\n      <th>rating_bin</th>\n      <th></th>\n      <th></th>\n      <th></th>\n      <th></th>\n      <th></th>\n      <th></th>\n      <th></th>\n      <th></th>\n      <th></th>\n    </tr>\n  </thead>\n  <tbody>\n    <tr>\n      <th>(2000, 2100]</th>\n      <td>93.333333</td>\n      <td>0.000000</td>\n      <td>0.000000</td>\n      <td>0.0</td>\n      <td>60.0</td>\n      <td>46.666667</td>\n      <td>26.666667</td>\n      <td>13.333333</td>\n      <td>6.666667</td>\n    </tr>\n    <tr>\n      <th>(2100, 2200]</th>\n      <td>68.75</td>\n      <td>0.000000</td>\n      <td>6.250000</td>\n      <td>0.0</td>\n      <td>43.75</td>\n      <td>37.5</td>\n      <td>31.25</td>\n      <td>25.0</td>\n      <td>18.75</td>\n    </tr>\n    <tr>\n      <th>(2200, 2300]</th>\n      <td>100.0</td>\n      <td>0.000000</td>\n      <td>0.000000</td>\n      <td>25.0</td>\n      <td>60.0</td>\n      <td>40.0</td>\n      <td>40.0</td>\n      <td>35.0</td>\n      <td>20.0</td>\n    </tr>\n    <tr>\n      <th>(2300, 2400]</th>\n      <td>78.571429</td>\n      <td>0.000000</td>\n      <td>7.142857</td>\n      <td>14.285714</td>\n      <td>53.571429</td>\n      <td>32.142857</td>\n      <td>25.0</td>\n      <td>21.428571</td>\n      <td>17.857143</td>\n    </tr>\n    <tr>\n      <th>(2400, 2500]</th>\n      <td>98.550725</td>\n      <td>0.000000</td>\n      <td>1.449275</td>\n      <td>13.043478</td>\n      <td>50.724638</td>\n      <td>26.086957</td>\n      <td>21.73913</td>\n      <td>17.391304</td>\n      <td>14.492754</td>\n    </tr>\n    <tr>\n      <th>(2500, 2600]</th>\n      <td>91.954023</td>\n      <td>2.298851</td>\n      <td>4.597701</td>\n      <td>11.494253</td>\n      <td>54.022989</td>\n      <td>37.931034</td>\n      <td>24.137931</td>\n      <td>19.54023</td>\n      <td>16.091954</td>\n    </tr>\n    <tr>\n      <th>(2600, 2700]</th>\n      <td>94.444444</td>\n      <td>1.851852</td>\n      <td>3.086420</td>\n      <td>11.111111</td>\n      <td>51.851852</td>\n      <td>27.777778</td>\n      <td>19.135802</td>\n      <td>13.580247</td>\n      <td>11.728395</td>\n    </tr>\n    <tr>\n      <th>(2700, 2800]</th>\n      <td>95.327103</td>\n      <td>2.336449</td>\n      <td>2.336449</td>\n      <td>10.280374</td>\n      <td>44.859813</td>\n      <td>22.897196</td>\n      <td>17.28972</td>\n      <td>13.084112</td>\n      <td>8.878505</td>\n    </tr>\n    <tr>\n      <th>(2800, 2900]</th>\n      <td>89.403974</td>\n      <td>5.298013</td>\n      <td>5.187638</td>\n      <td>13.245033</td>\n      <td>44.15011</td>\n      <td>23.509934</td>\n      <td>15.562914</td>\n      <td>11.92053</td>\n      <td>8.278146</td>\n    </tr>\n    <tr>\n      <th>(2900, 3000]</th>\n      <td>78.547009</td>\n      <td>8.632479</td>\n      <td>12.735043</td>\n      <td>9.230769</td>\n      <td>39.059829</td>\n      <td>19.401709</td>\n      <td>12.991453</td>\n      <td>9.316239</td>\n      <td>6.239316</td>\n    </tr>\n    <tr>\n      <th>(3000, 3100]</th>\n      <td>62.518302</td>\n      <td>14.348463</td>\n      <td>23.133236</td>\n      <td>8.931186</td>\n      <td>34.407028</td>\n      <td>17.27672</td>\n      <td>12.005857</td>\n      <td>8.784773</td>\n      <td>6.149341</td>\n    </tr>\n    <tr>\n      <th>(3100, 3200]</th>\n      <td>48.913043</td>\n      <td>18.478261</td>\n      <td>32.608696</td>\n      <td>4.347826</td>\n      <td>26.086957</td>\n      <td>10.869565</td>\n      <td>6.521739</td>\n      <td>3.26087</td>\n      <td>3.26087</td>\n    </tr>\n    <tr>\n      <th>(3200, 3300]</th>\n      <td>0.0</td>\n      <td>50.000000</td>\n      <td>50.000000</td>\n      <td>0.0</td>\n      <td>0.0</td>\n      <td>0.0</td>\n      <td>0.0</td>\n      <td>0.0</td>\n      <td>0.0</td>\n    </tr>\n  </tbody>\n</table>\n</div>"
     },
     "execution_count": 176,
     "metadata": {},
     "output_type": "execute_result"
    }
   ],
   "source": [
    "blitz_180_no_streak_df.groupby('rating_bin', observed=True).agg(\n",
    "    {\n",
    "        'win': 'mean',\n",
    "        'draw': 'mean', \n",
    "        'loose': 'mean', \n",
    "        'timeout_win': 'mean',\n",
    "        'win1': 'mean',\n",
    "        'win2': 'mean',\n",
    "        'win3': 'mean',\n",
    "        'win4': 'mean',\n",
    "        'win5': 'mean',\n",
    "     }\n",
    ")\n"
   ],
   "metadata": {
    "collapsed": false,
    "ExecuteTime": {
     "end_time": "2024-01-04T22:07:51.956552Z",
     "start_time": "2024-01-04T22:07:51.643719Z"
    }
   },
   "id": "b34c11f3793eec3d"
  },
  {
   "cell_type": "markdown",
   "source": [
    "The statistics within each rating range appear consistent with expectations. Generally, as Hikaru's opponent rating range increases he does have less chance of winning. Same apply for situations where Hikaru was loosing but won at the end; as the higher opponent elo is it is harder for Hikaru to make comeback from loosing position. \n",
    "\n",
    "Let's now see these stats for the \"interesting\" streak games and see if they deviate from what we saw so far. We'll also take a subset from above table which is relevant for streak games."
   ],
   "metadata": {
    "collapsed": false
   },
   "id": "473cfde75604d26e"
  },
  {
   "cell_type": "code",
   "execution_count": 177,
   "outputs": [
    {
     "data": {
      "text/plain": "               win            timeout_win       win1       win2       win3  \\\n             count       mean        mean       mean       mean       mean   \nrating_bin                                                                   \n(2900, 3000]  1170  78.547009    9.230769  39.059829  19.401709  12.991453   \n(3000, 3100]   683  62.518302    8.931186  34.407028   17.27672  12.005857   \n\n                  win4      win5  \n                  mean      mean  \nrating_bin                        \n(2900, 3000]  9.316239  6.239316  \n(3000, 3100]  8.784773  6.149341  ",
      "text/html": "<div>\n<style scoped>\n    .dataframe tbody tr th:only-of-type {\n        vertical-align: middle;\n    }\n\n    .dataframe tbody tr th {\n        vertical-align: top;\n    }\n\n    .dataframe thead tr th {\n        text-align: left;\n    }\n\n    .dataframe thead tr:last-of-type th {\n        text-align: right;\n    }\n</style>\n<table border=\"1\" class=\"dataframe\">\n  <thead>\n    <tr>\n      <th></th>\n      <th colspan=\"2\" halign=\"left\">win</th>\n      <th>timeout_win</th>\n      <th>win1</th>\n      <th>win2</th>\n      <th>win3</th>\n      <th>win4</th>\n      <th>win5</th>\n    </tr>\n    <tr>\n      <th></th>\n      <th>count</th>\n      <th>mean</th>\n      <th>mean</th>\n      <th>mean</th>\n      <th>mean</th>\n      <th>mean</th>\n      <th>mean</th>\n      <th>mean</th>\n    </tr>\n    <tr>\n      <th>rating_bin</th>\n      <th></th>\n      <th></th>\n      <th></th>\n      <th></th>\n      <th></th>\n      <th></th>\n      <th></th>\n      <th></th>\n    </tr>\n  </thead>\n  <tbody>\n    <tr>\n      <th>(2900, 3000]</th>\n      <td>1170</td>\n      <td>78.547009</td>\n      <td>9.230769</td>\n      <td>39.059829</td>\n      <td>19.401709</td>\n      <td>12.991453</td>\n      <td>9.316239</td>\n      <td>6.239316</td>\n    </tr>\n    <tr>\n      <th>(3000, 3100]</th>\n      <td>683</td>\n      <td>62.518302</td>\n      <td>8.931186</td>\n      <td>34.407028</td>\n      <td>17.27672</td>\n      <td>12.005857</td>\n      <td>8.784773</td>\n      <td>6.149341</td>\n    </tr>\n  </tbody>\n</table>\n</div>"
     },
     "execution_count": 177,
     "metadata": {},
     "output_type": "execute_result"
    }
   ],
   "source": [
    "blitz_180_no_streak_agg_df = blitz_180_no_streak_df.groupby('rating_bin', observed=True).agg(\n",
    "    {\n",
    "        'win': ['count', 'mean'],\n",
    "        'timeout_win': 'mean',\n",
    "        'win1': 'mean',\n",
    "        'win2': 'mean',\n",
    "        'win3': 'mean',\n",
    "        'win4': 'mean',\n",
    "        'win5': 'mean',\n",
    "     }\n",
    ").iloc[9:11, :]\n",
    "blitz_180_no_streak_agg_df"
   ],
   "metadata": {
    "collapsed": false,
    "ExecuteTime": {
     "end_time": "2024-01-04T22:07:51.958695Z",
     "start_time": "2024-01-04T22:07:51.660140Z"
    }
   },
   "id": "231afd10422b5244"
  },
  {
   "cell_type": "code",
   "execution_count": 178,
   "outputs": [
    {
     "data": {
      "text/plain": "               win            timeout_win       win1       win2       win3  \\\n             count       mean        mean       mean       mean       mean   \nrating_bin                                                                   \n(2900, 3000]    38  97.368421   18.421053  47.368421  21.052632  18.421053   \n(3000, 3100]     6      100.0   16.666667       50.0  33.333333  16.666667   \n\n                   win4      win5  \n                   mean      mean  \nrating_bin                         \n(2900, 3000]  13.157895  7.894737  \n(3000, 3100]  16.666667       0.0  ",
      "text/html": "<div>\n<style scoped>\n    .dataframe tbody tr th:only-of-type {\n        vertical-align: middle;\n    }\n\n    .dataframe tbody tr th {\n        vertical-align: top;\n    }\n\n    .dataframe thead tr th {\n        text-align: left;\n    }\n\n    .dataframe thead tr:last-of-type th {\n        text-align: right;\n    }\n</style>\n<table border=\"1\" class=\"dataframe\">\n  <thead>\n    <tr>\n      <th></th>\n      <th colspan=\"2\" halign=\"left\">win</th>\n      <th>timeout_win</th>\n      <th>win1</th>\n      <th>win2</th>\n      <th>win3</th>\n      <th>win4</th>\n      <th>win5</th>\n    </tr>\n    <tr>\n      <th></th>\n      <th>count</th>\n      <th>mean</th>\n      <th>mean</th>\n      <th>mean</th>\n      <th>mean</th>\n      <th>mean</th>\n      <th>mean</th>\n      <th>mean</th>\n    </tr>\n    <tr>\n      <th>rating_bin</th>\n      <th></th>\n      <th></th>\n      <th></th>\n      <th></th>\n      <th></th>\n      <th></th>\n      <th></th>\n      <th></th>\n    </tr>\n  </thead>\n  <tbody>\n    <tr>\n      <th>(2900, 3000]</th>\n      <td>38</td>\n      <td>97.368421</td>\n      <td>18.421053</td>\n      <td>47.368421</td>\n      <td>21.052632</td>\n      <td>18.421053</td>\n      <td>13.157895</td>\n      <td>7.894737</td>\n    </tr>\n    <tr>\n      <th>(3000, 3100]</th>\n      <td>6</td>\n      <td>100.0</td>\n      <td>16.666667</td>\n      <td>50.0</td>\n      <td>33.333333</td>\n      <td>16.666667</td>\n      <td>16.666667</td>\n      <td>0.0</td>\n    </tr>\n  </tbody>\n</table>\n</div>"
     },
     "execution_count": 178,
     "metadata": {},
     "output_type": "execute_result"
    }
   ],
   "source": [
    "streak_agg_df = streak_games_df.groupby('rating_bin', observed=True).agg(\n",
    "    {\n",
    "        'win': ['count', 'mean'],\n",
    "        'timeout_win': 'mean',\n",
    "        'win1': 'mean',\n",
    "        'win2': 'mean',\n",
    "        'win3': 'mean',\n",
    "        'win4': 'mean',\n",
    "        'win5': 'mean',\n",
    "     }\n",
    ")\n",
    "streak_agg_df"
   ],
   "metadata": {
    "collapsed": false,
    "ExecuteTime": {
     "end_time": "2024-01-04T22:07:52.288877Z",
     "start_time": "2024-01-04T22:07:51.683734Z"
    }
   },
   "id": "9a6170802b61714f"
  },
  {
   "cell_type": "markdown",
   "source": [
    "Here we can see that streak games do have higher numbers compared to overall dataset. However, as we cherry-picked specific winning streak such differences do not have to be necessarily an unusual pattern. Fact that all these cherry-picked games likely play a role in seeing these numbers higher than what we see in entire data set. However, it does mean that ~8% of the time, when played 2900-3000 rating during his streak, Hikaru was lost by 8 but won anyway. Let's find these wins and what was a winning reason."
   ],
   "metadata": {
    "collapsed": false
   },
   "id": "8139fe6e0a72c6f2"
  },
  {
   "cell_type": "code",
   "execution_count": 179,
   "outputs": [
    {
     "data": {
      "text/plain": "rating_bin    win_reason\n(2900, 3000]  timeout       2\n              resigned      1\nName: count, dtype: int64"
     },
     "execution_count": 179,
     "metadata": {},
     "output_type": "execute_result"
    }
   ],
   "source": [
    "streak_games_df.query('win5 == 100').groupby('rating_bin', observed=True)['win_reason'].value_counts()"
   ],
   "metadata": {
    "collapsed": false,
    "ExecuteTime": {
     "end_time": "2024-01-04T22:07:52.446065Z",
     "start_time": "2024-01-04T22:07:51.686489Z"
    }
   },
   "id": "4d1c382f4e5c5232"
  },
  {
   "cell_type": "markdown",
   "source": [
    "So there were 3 games where Hikaru was loosing by 5 and won anyway. Two of them he won on time, frequently referred as flagged opponent. In last one his opponent resigned, so lets look a specific details of this game. Let's pull this game and see if there is anything unusual with it."
   ],
   "metadata": {
    "collapsed": false
   },
   "id": "134b10eb2348d80e"
  },
  {
   "cell_type": "code",
   "execution_count": 180,
   "outputs": [
    {
     "data": {
      "text/plain": "                                              url  \\\n4158  https://www.chess.com/game/live/93910817501   \n\n     hikaru_stats.opponent_username  hikaru_stats.good_moves_perc_sum  \\\n4158                 LiamPutnam2008                         82.608696   \n\n      hikaru_stats.bad_moves_perc_sum  opponent_stats.good_moves_perc_sum  \\\n4158                        17.391304                           80.434783   \n\n      opponent_stats.bad_moves_perc_sum  \n4158                          19.565217  ",
      "text/html": "<div>\n<style scoped>\n    .dataframe tbody tr th:only-of-type {\n        vertical-align: middle;\n    }\n\n    .dataframe tbody tr th {\n        vertical-align: top;\n    }\n\n    .dataframe thead th {\n        text-align: right;\n    }\n</style>\n<table border=\"1\" class=\"dataframe\">\n  <thead>\n    <tr style=\"text-align: right;\">\n      <th></th>\n      <th>url</th>\n      <th>hikaru_stats.opponent_username</th>\n      <th>hikaru_stats.good_moves_perc_sum</th>\n      <th>hikaru_stats.bad_moves_perc_sum</th>\n      <th>opponent_stats.good_moves_perc_sum</th>\n      <th>opponent_stats.bad_moves_perc_sum</th>\n    </tr>\n  </thead>\n  <tbody>\n    <tr>\n      <th>4158</th>\n      <td>https://www.chess.com/game/live/93910817501</td>\n      <td>LiamPutnam2008</td>\n      <td>82.608696</td>\n      <td>17.391304</td>\n      <td>80.434783</td>\n      <td>19.565217</td>\n    </tr>\n  </tbody>\n</table>\n</div>"
     },
     "execution_count": 180,
     "metadata": {},
     "output_type": "execute_result"
    }
   ],
   "source": [
    "lost_by_5_but_won = streak_games_df.query('win5 == 100 & win_reason == \"resigned\"').head(1)\n",
    "lost_by_5_but_won[['url','hikaru_stats.opponent_username', 'hikaru_stats.good_moves_perc_sum', 'hikaru_stats.bad_moves_perc_sum', 'opponent_stats.good_moves_perc_sum', 'opponent_stats.bad_moves_perc_sum']]"
   ],
   "metadata": {
    "collapsed": false,
    "ExecuteTime": {
     "end_time": "2024-01-04T22:07:52.482220Z",
     "start_time": "2024-01-04T22:07:51.708851Z"
    }
   },
   "id": "2882006535b2eb7"
  },
  {
   "cell_type": "markdown",
   "source": [
    "Apparently this game was played against LiamPutnam2008. You can check game details on https://www.chess.com/game/live/93910817501 but what I found out is that on move 29 Hikaru made serious mistake of playing Bd8.\n",
    "<br>\n",
    "<img src=\"data/photos/liamputnam_game_loosing_5plus.png\" width=\"1200\" height=\"800\" />\n",
    "\n",
    "At this point Hikaru was lost by 5+ eval. Several moves have been played after this move where both sides were making mistakes, however Liamputnam2008 did make a crucial blunder loosing a knight which lead him to loose the game. Hikaru did spend 2 seconds on playing move which took advantage on the blunder and the move itself does not seem too hard to find even for my limited chess knowledge. \n",
    "\n",
    "At this point I do not see anything unusual with this game but that LiamPutnam2008 did really play a bad game and let Hikaru win even though he was practically lost. I did check fide ratings for Liam Putnam and his blitz rating in fide list is 2157 therefore it does make sense for Hikaru to keep playing even though he was lost in middlegame as he has a lot of chances to win these games being overrated and better player in general."
   ],
   "metadata": {
    "collapsed": false
   },
   "id": "afe1d320c8f534ba"
  },
  {
   "cell_type": "markdown",
   "source": [
    "After we checked games where Hikaru was lost by 5+ but won anyway in streak games, lest also check what are common winning reasons for all loosing but won buckets."
   ],
   "metadata": {
    "collapsed": false
   },
   "id": "d778c13be7790e08"
  },
  {
   "cell_type": "code",
   "execution_count": 181,
   "outputs": [
    {
     "data": {
      "text/plain": "win_reason\nresigned    13\ntimeout      5\nName: count, dtype: int64"
     },
     "execution_count": 181,
     "metadata": {},
     "output_type": "execute_result"
    }
   ],
   "source": [
    "# Win 5 we have already covered\n",
    "lost_by_N_but_won = streak_games_df.query('(win1 == 100 | win2 == 100 | win3 == 100 | win4 == 100) & win5 != 100')\n",
    "lost_by_N_but_won['win_reason'].value_counts()"
   ],
   "metadata": {
    "collapsed": false,
    "ExecuteTime": {
     "end_time": "2024-01-04T22:07:52.580484Z",
     "start_time": "2024-01-04T22:07:51.717064Z"
    }
   },
   "id": "b695feb1a6f824e8"
  },
  {
   "cell_type": "markdown",
   "source": [
    "So out of 18 games, 13 were won by resignation of opponent and 5 were won on timeout. Again, timeout wins are not really interesting to us as Hikaru was able to flag opponents, however we want to get some more insights in these 13 so lets start by seeing their move's percentage."
   ],
   "metadata": {
    "collapsed": false
   },
   "id": "8b189287b6d27ec6"
  },
  {
   "cell_type": "code",
   "execution_count": 182,
   "outputs": [
    {
     "data": {
      "text/plain": "            Opponent  Opponent elo  Moves count  Hikaru good moves %  \\\n4146       Artur0208        2912.0         23.0            92.307692   \n4147       Artur0208        2910.0         45.0            71.428571   \n4149           Pe0la        2995.0         36.0            69.230769   \n4156  LiamPutnam2008        2913.0         43.0            78.787879   \n4157  LiamPutnam2008        2911.0         68.0            84.482759   \n4161  LiamPutnam2008        2911.0         86.0            82.894737   \n4164  LiamPutnam2008        2905.0         22.0            75.000000   \n4170           Pe0la        2951.0         31.0            90.476190   \n4171           Pe0la        2947.0         39.0            82.758621   \n4172           Pe0la        2943.0         42.0            87.500000   \n4175      artin10862        2924.0         20.0            70.000000   \n4184   legendisback1        3096.0         47.0            83.783784   \n4185   legendisback1        3092.0         41.0            87.096774   \n\n      Hikaru bad moves %  Opponent Good moves %  Opponent bad moves %  \\\n4146            7.692308              76.923077             23.076923   \n4147           28.571429              67.647059             32.352941   \n4149           30.769231              69.230769             30.769231   \n4156           21.212121              72.727273             27.272727   \n4157           15.517241              84.210526             15.789474   \n4161           17.105263              86.666667             13.333333   \n4164           25.000000              66.666667             33.333333   \n4170            9.523810              80.952381             19.047619   \n4171           17.241379              75.000000             25.000000   \n4172           12.500000              81.250000             18.750000   \n4175           30.000000              90.000000             10.000000   \n4184           16.216216              86.111111             13.888889   \n4185           12.903226              77.419355             22.580645   \n\n      Opponent blunders %                                          url  \n4146             7.692308  https://www.chess.com/game/live/93903575753  \n4147             2.941176  https://www.chess.com/game/live/93903652211  \n4149             7.692308  https://www.chess.com/game/live/93904261273  \n4156             6.060606  https://www.chess.com/game/live/93910207781  \n4157             3.508772  https://www.chess.com/game/live/93910727787  \n4161             1.333333  https://www.chess.com/game/live/93912033813  \n4164             8.333333  https://www.chess.com/game/live/93913173895  \n4170             4.761905  https://www.chess.com/game/live/93977049041  \n4171             7.142857  https://www.chess.com/game/live/93977534149  \n4172             3.125000  https://www.chess.com/game/live/93977612015  \n4175            10.000000  https://www.chess.com/game/live/93983521033  \n4184             5.555556  https://www.chess.com/game/live/93992562949  \n4185             3.225806  https://www.chess.com/game/live/93993083451  ",
      "text/html": "<div>\n<style scoped>\n    .dataframe tbody tr th:only-of-type {\n        vertical-align: middle;\n    }\n\n    .dataframe tbody tr th {\n        vertical-align: top;\n    }\n\n    .dataframe thead th {\n        text-align: right;\n    }\n</style>\n<table border=\"1\" class=\"dataframe\">\n  <thead>\n    <tr style=\"text-align: right;\">\n      <th></th>\n      <th>Opponent</th>\n      <th>Opponent elo</th>\n      <th>Moves count</th>\n      <th>Hikaru good moves %</th>\n      <th>Hikaru bad moves %</th>\n      <th>Opponent Good moves %</th>\n      <th>Opponent bad moves %</th>\n      <th>Opponent blunders %</th>\n      <th>url</th>\n    </tr>\n  </thead>\n  <tbody>\n    <tr>\n      <th>4146</th>\n      <td>Artur0208</td>\n      <td>2912.0</td>\n      <td>23.0</td>\n      <td>92.307692</td>\n      <td>7.692308</td>\n      <td>76.923077</td>\n      <td>23.076923</td>\n      <td>7.692308</td>\n      <td>https://www.chess.com/game/live/93903575753</td>\n    </tr>\n    <tr>\n      <th>4147</th>\n      <td>Artur0208</td>\n      <td>2910.0</td>\n      <td>45.0</td>\n      <td>71.428571</td>\n      <td>28.571429</td>\n      <td>67.647059</td>\n      <td>32.352941</td>\n      <td>2.941176</td>\n      <td>https://www.chess.com/game/live/93903652211</td>\n    </tr>\n    <tr>\n      <th>4149</th>\n      <td>Pe0la</td>\n      <td>2995.0</td>\n      <td>36.0</td>\n      <td>69.230769</td>\n      <td>30.769231</td>\n      <td>69.230769</td>\n      <td>30.769231</td>\n      <td>7.692308</td>\n      <td>https://www.chess.com/game/live/93904261273</td>\n    </tr>\n    <tr>\n      <th>4156</th>\n      <td>LiamPutnam2008</td>\n      <td>2913.0</td>\n      <td>43.0</td>\n      <td>78.787879</td>\n      <td>21.212121</td>\n      <td>72.727273</td>\n      <td>27.272727</td>\n      <td>6.060606</td>\n      <td>https://www.chess.com/game/live/93910207781</td>\n    </tr>\n    <tr>\n      <th>4157</th>\n      <td>LiamPutnam2008</td>\n      <td>2911.0</td>\n      <td>68.0</td>\n      <td>84.482759</td>\n      <td>15.517241</td>\n      <td>84.210526</td>\n      <td>15.789474</td>\n      <td>3.508772</td>\n      <td>https://www.chess.com/game/live/93910727787</td>\n    </tr>\n    <tr>\n      <th>4161</th>\n      <td>LiamPutnam2008</td>\n      <td>2911.0</td>\n      <td>86.0</td>\n      <td>82.894737</td>\n      <td>17.105263</td>\n      <td>86.666667</td>\n      <td>13.333333</td>\n      <td>1.333333</td>\n      <td>https://www.chess.com/game/live/93912033813</td>\n    </tr>\n    <tr>\n      <th>4164</th>\n      <td>LiamPutnam2008</td>\n      <td>2905.0</td>\n      <td>22.0</td>\n      <td>75.000000</td>\n      <td>25.000000</td>\n      <td>66.666667</td>\n      <td>33.333333</td>\n      <td>8.333333</td>\n      <td>https://www.chess.com/game/live/93913173895</td>\n    </tr>\n    <tr>\n      <th>4170</th>\n      <td>Pe0la</td>\n      <td>2951.0</td>\n      <td>31.0</td>\n      <td>90.476190</td>\n      <td>9.523810</td>\n      <td>80.952381</td>\n      <td>19.047619</td>\n      <td>4.761905</td>\n      <td>https://www.chess.com/game/live/93977049041</td>\n    </tr>\n    <tr>\n      <th>4171</th>\n      <td>Pe0la</td>\n      <td>2947.0</td>\n      <td>39.0</td>\n      <td>82.758621</td>\n      <td>17.241379</td>\n      <td>75.000000</td>\n      <td>25.000000</td>\n      <td>7.142857</td>\n      <td>https://www.chess.com/game/live/93977534149</td>\n    </tr>\n    <tr>\n      <th>4172</th>\n      <td>Pe0la</td>\n      <td>2943.0</td>\n      <td>42.0</td>\n      <td>87.500000</td>\n      <td>12.500000</td>\n      <td>81.250000</td>\n      <td>18.750000</td>\n      <td>3.125000</td>\n      <td>https://www.chess.com/game/live/93977612015</td>\n    </tr>\n    <tr>\n      <th>4175</th>\n      <td>artin10862</td>\n      <td>2924.0</td>\n      <td>20.0</td>\n      <td>70.000000</td>\n      <td>30.000000</td>\n      <td>90.000000</td>\n      <td>10.000000</td>\n      <td>10.000000</td>\n      <td>https://www.chess.com/game/live/93983521033</td>\n    </tr>\n    <tr>\n      <th>4184</th>\n      <td>legendisback1</td>\n      <td>3096.0</td>\n      <td>47.0</td>\n      <td>83.783784</td>\n      <td>16.216216</td>\n      <td>86.111111</td>\n      <td>13.888889</td>\n      <td>5.555556</td>\n      <td>https://www.chess.com/game/live/93992562949</td>\n    </tr>\n    <tr>\n      <th>4185</th>\n      <td>legendisback1</td>\n      <td>3092.0</td>\n      <td>41.0</td>\n      <td>87.096774</td>\n      <td>12.903226</td>\n      <td>77.419355</td>\n      <td>22.580645</td>\n      <td>3.225806</td>\n      <td>https://www.chess.com/game/live/93993083451</td>\n    </tr>\n  </tbody>\n</table>\n</div>"
     },
     "execution_count": 182,
     "metadata": {},
     "output_type": "execute_result"
    }
   ],
   "source": [
    "lost_by_N_but_won_by_resignation = lost_by_N_but_won.query('win_reason == \"resigned\"')\n",
    "\n",
    "lost_by_N_but_won_by_resignation_renamed = lost_by_N_but_won_by_resignation.rename(columns={\n",
    "    'hikaru_stats.opponent_username': 'Opponent',\n",
    "    'hikaru_stats.opponent_rating': 'Opponent elo',\n",
    "    'hikaru_stats.total_moves': 'Moves count',\n",
    "    'hikaru_stats.good_moves_perc_sum': 'Hikaru good moves %',\n",
    "    'hikaru_stats.bad_moves_perc_sum': 'Hikaru bad moves %',\n",
    "    'opponent_stats.good_moves_perc_sum':  'Opponent Good moves %',\n",
    "    'opponent_stats.bad_moves_perc_sum': 'Opponent bad moves %',\n",
    "    'opponent_stats.blunder_move_perc': 'Opponent blunders %'\n",
    "})\n",
    "\n",
    "lost_by_N_but_won_by_resignation_renamed[['Opponent', 'Opponent elo', 'Moves count', 'Hikaru good moves %', 'Hikaru bad moves %', 'Opponent Good moves %', 'Opponent bad moves %', 'Opponent blunders %', 'url' ]]\n"
   ],
   "metadata": {
    "collapsed": false,
    "ExecuteTime": {
     "end_time": "2024-01-04T22:07:52.663731Z",
     "start_time": "2024-01-04T22:07:51.726724Z"
    }
   },
   "id": "47b9102d25a11296"
  },
  {
   "cell_type": "markdown",
   "source": [
    "Let's analyze these 13 games, first by checking into the stats we have and then if necessarily by checking in details some games. \n",
    "<br>\n",
    "\n",
    "\n",
    "##### First 4 games\n",
    "\n",
    "First 4 games in table above (sorted by moves count) seem to be regular games where opponent (likely due to tilt factor) blundered early and resigned game figuring out it would be hard for them to recover vs Hikaru. In 2 of them Hikaru did perform by having 90%+ good moves percentage. However, give the low amount of played moves it is hard to judge these games as even all of these could be Hikaru's preparation or opening theory.\n",
    "\n",
    "<br>\n",
    "\n",
    "##### 4171 - Game against Pe0la \n",
    "\n",
    "In this [game](https://www.chess.com/game/live/93977534149) Hikaru was lost by 2+. The game itself had 39 moves and on move 27 Pe0la made a blunder which gave Hikaru chance to survive and even out odds. Hikaru did make a best move taking 12 seconds to play it. Hikaru had more than 1 minute left on his clock when he made this move while his opponent did have 35 seconds left so likely Hikaru did not feel time pressure. The move itself does not seem to be hard to find, and it is classified by best by chess.com not great nor brilliant. After this move Pe0la made several bad moves allowing Hikaru to take advantage and win at the end.\n",
    "\n",
    "As I said above, the move does not seem to be hard to find. However, it did took Hikaru 12 seconds to play which (as we will cover below in section on moves) is long time for Hikaru. \n",
    "\n",
    "<br>\n",
    "\n",
    "##### Rest of the games\n",
    "\n",
    "I will not do this analysis for all the 13 games, however I did check few more samples and it does seem that it is usually up to the opponents that make a bad moves and not up to Hikaru to make good moves. Usually these players will make a bunch of mistakes in middlegame where Hikaru will play just regular (obvious) good moves without burning a lot of time. Also, in lots of these games opponents may be feeling time pressure as Hikaru will usually play fast and be in a big advantage on clock.\n",
    "\n"
   ],
   "metadata": {
    "collapsed": false
   },
   "id": "f768b3cd281c90c"
  },
  {
   "cell_type": "markdown",
   "source": [
    "### On winning summary\n",
    "\n",
    "So far we did see some \"interesting\" and a lot of non \"interesting\" stats. GM Hikaru is usually playing lower rated players, and he does win a lot. When playing such players he does have less stress as he can more easily make comeback from worst position. Hikaru will usually play fast, and beat opponents on clock or put a lot of stress on them due to time advantage. More often it is up to the opponents who make a bad moves and loose their advantage then it is up to Hikaru of making good moves.\n",
    "\n",
    "Against higher rated players Hikaru would have much lower chances on making such streak as he does win much less and have fewer chances to recover from worst position.\n",
    "\n",
    "Let's now move to analyze moves data within these games."
   ],
   "metadata": {
    "collapsed": false
   },
   "id": "161142a244af2f57"
  },
  {
   "cell_type": "markdown",
   "source": [
    "## On moves\n",
    "\n",
    "Here we will examine moves statistic and compare in with other data in our datasets. More specifically we want to see how many good moves Hikaru plays under which condition and how does that affect his winning chances. If you remember, during our data extraction we did extract some stats on move classification which ranges from Excellent - Blunder, however we also did add stats on a column which represent whether the specific move was one of the top 2 moves offered by stockfish.\n",
    "\n",
    "Let's start by plotting distribution of top 2 moves percentage accross games."
   ],
   "metadata": {
    "collapsed": false
   },
   "id": "b54a8d699f3e96da"
  },
  {
   "cell_type": "code",
   "execution_count": 183,
   "outputs": [
    {
     "data": {
      "text/plain": "<Figure size 500x500 with 1 Axes>",
      "image/png": "[encoded data removed]"
     },
     "metadata": {},
     "output_type": "display_data"
    }
   ],
   "source": [
    "sns.displot(blitz_180_no_streak_df['hikaru_stats.top_2_move_perc'], kde=True, bins=20, color='skyblue')\n",
    "\n",
    "plt.title('Distribution Plot of Top 2 Moves Percentage', fontsize=16)\n",
    "plt.xlabel('Top 2 Move Percentage', fontsize=12)\n",
    "plt.ylabel('Count', fontsize=12)\n",
    "\n",
    "plt.show()"
   ],
   "metadata": {
    "collapsed": false,
    "ExecuteTime": {
     "end_time": "2024-01-04T22:07:52.739101Z",
     "start_time": "2024-01-04T22:07:51.737722Z"
    }
   },
   "id": "886465e3c05bdc3e"
  },
  {
   "cell_type": "code",
   "execution_count": 184,
   "outputs": [
    {
     "data": {
      "text/plain": "count    3610.000000\nmean       69.218825\nstd        13.908631\nmin         0.000000\n25%        62.500000\n50%        70.000000\n75%        77.577410\nmax       100.000000\nName: hikaru_stats.top_2_move_perc, dtype: float64"
     },
     "execution_count": 184,
     "metadata": {},
     "output_type": "execute_result"
    }
   ],
   "source": [
    "blitz_180_no_streak_df['hikaru_stats.top_2_move_perc'].describe()"
   ],
   "metadata": {
    "collapsed": false,
    "ExecuteTime": {
     "end_time": "2024-01-04T22:07:52.750043Z",
     "start_time": "2024-01-04T22:07:51.951111Z"
    }
   },
   "id": "e615d5d98be223bf"
  },
  {
   "cell_type": "markdown",
   "source": [
    "We can tell that data is sort of normally distributed and that majority of games did have top two moves percentage between 60% and 80%. However, standard deviation for this type of data (percentages) seem to be high as two standard deviations cover anything in between 40% - 97% and based on distribution graph from above we can tell that < 40% are rare games.\n",
    " \n",
    "What this means is that in 68% of the games Hikaru did play top two moves for ~ 60%-80% of the time, and in 95% of the games Hikaru did play top two moves for ~ 40%-100% of the time. As we can tell, this data is pretty much scattered around therefore does not tell us a lot.\n",
    "\n",
    "Let's now see best move percentage per elo rating range and if that tells us more."
   ],
   "metadata": {
    "collapsed": false
   },
   "id": "d89ccd0d02854a71"
  },
  {
   "cell_type": "code",
   "execution_count": 185,
   "outputs": [
    {
     "data": {
      "text/plain": "               count       mean        std        min        25%        50%  \\\nrating_bin                                                                    \n(2000, 2100]    15.0  47.356196  26.803064   0.000000  41.477273  57.142857   \n(2100, 2200]    16.0  61.087322  19.647127  30.000000  49.456522  60.882353   \n(2200, 2300]    20.0  70.386435  17.504059  30.769231  59.285714  69.176636   \n(2300, 2400]    28.0  69.098148  14.425222  45.833333  56.493506  69.917744   \n(2400, 2500]    69.0  72.625674  11.992061  46.511628  63.157895  73.076923   \n(2500, 2600]    87.0  71.907957  13.611550   0.000000  66.666667  72.340426   \n(2600, 2700]   162.0  71.541213  13.216270   0.000000  65.000000  71.428571   \n(2700, 2800]   214.0  71.642510  12.789581   0.000000  64.479167  72.000000   \n(2800, 2900]   906.0  70.392339  11.723153   0.000000  63.157895  70.588235   \n(2900, 3000]  1170.0  70.764226  11.423699   0.000000  63.793103  70.833333   \n(3000, 3100]   683.0  68.681922  11.620787   0.000000  62.145594  69.230769   \n(3100, 3200]    92.0  69.039494  13.071496   0.000000  60.714286  69.722222   \n(3200, 3300]     2.0  63.333333   4.714045  60.000000  61.666667  63.333333   \n\n                    75%         max  \nrating_bin                           \n(2000, 2100]  64.796905   80.000000  \n(2100, 2200]  73.557692   92.857143  \n(2200, 2300]  85.178571  100.000000  \n(2300, 2400]  80.654762  100.000000  \n(2400, 2500]  80.645161  100.000000  \n(2500, 2600]  78.835386  100.000000  \n(2600, 2700]  78.907496  100.000000  \n(2700, 2800]  79.274425  100.000000  \n(2800, 2900]  77.777778  100.000000  \n(2900, 3000]  77.777778  100.000000  \n(3000, 3100]  75.000000  100.000000  \n(3100, 3200]  76.489104  100.000000  \n(3200, 3300]  65.000000   66.666667  ",
      "text/html": "<div>\n<style scoped>\n    .dataframe tbody tr th:only-of-type {\n        vertical-align: middle;\n    }\n\n    .dataframe tbody tr th {\n        vertical-align: top;\n    }\n\n    .dataframe thead th {\n        text-align: right;\n    }\n</style>\n<table border=\"1\" class=\"dataframe\">\n  <thead>\n    <tr style=\"text-align: right;\">\n      <th></th>\n      <th>count</th>\n      <th>mean</th>\n      <th>std</th>\n      <th>min</th>\n      <th>25%</th>\n      <th>50%</th>\n      <th>75%</th>\n      <th>max</th>\n    </tr>\n    <tr>\n      <th>rating_bin</th>\n      <th></th>\n      <th></th>\n      <th></th>\n      <th></th>\n      <th></th>\n      <th></th>\n      <th></th>\n      <th></th>\n    </tr>\n  </thead>\n  <tbody>\n    <tr>\n      <th>(2000, 2100]</th>\n      <td>15.0</td>\n      <td>47.356196</td>\n      <td>26.803064</td>\n      <td>0.000000</td>\n      <td>41.477273</td>\n      <td>57.142857</td>\n      <td>64.796905</td>\n      <td>80.000000</td>\n    </tr>\n    <tr>\n      <th>(2100, 2200]</th>\n      <td>16.0</td>\n      <td>61.087322</td>\n      <td>19.647127</td>\n      <td>30.000000</td>\n      <td>49.456522</td>\n      <td>60.882353</td>\n      <td>73.557692</td>\n      <td>92.857143</td>\n    </tr>\n    <tr>\n      <th>(2200, 2300]</th>\n      <td>20.0</td>\n      <td>70.386435</td>\n      <td>17.504059</td>\n      <td>30.769231</td>\n      <td>59.285714</td>\n      <td>69.176636</td>\n      <td>85.178571</td>\n      <td>100.000000</td>\n    </tr>\n    <tr>\n      <th>(2300, 2400]</th>\n      <td>28.0</td>\n      <td>69.098148</td>\n      <td>14.425222</td>\n      <td>45.833333</td>\n      <td>56.493506</td>\n      <td>69.917744</td>\n      <td>80.654762</td>\n      <td>100.000000</td>\n    </tr>\n    <tr>\n      <th>(2400, 2500]</th>\n      <td>69.0</td>\n      <td>72.625674</td>\n      <td>11.992061</td>\n      <td>46.511628</td>\n      <td>63.157895</td>\n      <td>73.076923</td>\n      <td>80.645161</td>\n      <td>100.000000</td>\n    </tr>\n    <tr>\n      <th>(2500, 2600]</th>\n      <td>87.0</td>\n      <td>71.907957</td>\n      <td>13.611550</td>\n      <td>0.000000</td>\n      <td>66.666667</td>\n      <td>72.340426</td>\n      <td>78.835386</td>\n      <td>100.000000</td>\n    </tr>\n    <tr>\n      <th>(2600, 2700]</th>\n      <td>162.0</td>\n      <td>71.541213</td>\n      <td>13.216270</td>\n      <td>0.000000</td>\n      <td>65.000000</td>\n      <td>71.428571</td>\n      <td>78.907496</td>\n      <td>100.000000</td>\n    </tr>\n    <tr>\n      <th>(2700, 2800]</th>\n      <td>214.0</td>\n      <td>71.642510</td>\n      <td>12.789581</td>\n      <td>0.000000</td>\n      <td>64.479167</td>\n      <td>72.000000</td>\n      <td>79.274425</td>\n      <td>100.000000</td>\n    </tr>\n    <tr>\n      <th>(2800, 2900]</th>\n      <td>906.0</td>\n      <td>70.392339</td>\n      <td>11.723153</td>\n      <td>0.000000</td>\n      <td>63.157895</td>\n      <td>70.588235</td>\n      <td>77.777778</td>\n      <td>100.000000</td>\n    </tr>\n    <tr>\n      <th>(2900, 3000]</th>\n      <td>1170.0</td>\n      <td>70.764226</td>\n      <td>11.423699</td>\n      <td>0.000000</td>\n      <td>63.793103</td>\n      <td>70.833333</td>\n      <td>77.777778</td>\n      <td>100.000000</td>\n    </tr>\n    <tr>\n      <th>(3000, 3100]</th>\n      <td>683.0</td>\n      <td>68.681922</td>\n      <td>11.620787</td>\n      <td>0.000000</td>\n      <td>62.145594</td>\n      <td>69.230769</td>\n      <td>75.000000</td>\n      <td>100.000000</td>\n    </tr>\n    <tr>\n      <th>(3100, 3200]</th>\n      <td>92.0</td>\n      <td>69.039494</td>\n      <td>13.071496</td>\n      <td>0.000000</td>\n      <td>60.714286</td>\n      <td>69.722222</td>\n      <td>76.489104</td>\n      <td>100.000000</td>\n    </tr>\n    <tr>\n      <th>(3200, 3300]</th>\n      <td>2.0</td>\n      <td>63.333333</td>\n      <td>4.714045</td>\n      <td>60.000000</td>\n      <td>61.666667</td>\n      <td>63.333333</td>\n      <td>65.000000</td>\n      <td>66.666667</td>\n    </tr>\n  </tbody>\n</table>\n</div>"
     },
     "execution_count": 185,
     "metadata": {},
     "output_type": "execute_result"
    }
   ],
   "source": [
    "blitz_180_no_streak_df.groupby('rating_bin', observed=True)['hikaru_stats.top_2_move_perc'].describe()"
   ],
   "metadata": {
    "collapsed": false,
    "ExecuteTime": {
     "end_time": "2024-01-04T22:07:52.750605Z",
     "start_time": "2024-01-04T22:07:51.974283Z"
    }
   },
   "id": "baa93b1a2a5f73ff"
  },
  {
   "cell_type": "markdown",
   "source": [
    "Here we got a little bit more accurate numbers but still high standard deviation. Let's now see a stats for streak games and compare them to non streak games.\n"
   ],
   "metadata": {
    "collapsed": false
   },
   "id": "ba39f36d2d134be6"
  },
  {
   "cell_type": "code",
   "execution_count": 186,
   "outputs": [
    {
     "data": {
      "text/plain": "              count       mean        std        min        25%        50%  \\\nrating_bin                                                                   \n(2900, 3000]   38.0  73.923109  12.487260  48.571429  65.885417  71.008403   \n(3000, 3100]    6.0  75.801808  11.228014  63.333333  66.617399  74.647177   \n\n                    75%        max  \nrating_bin                          \n(2900, 3000]  81.010347  100.00000  \n(3000, 3100]  84.486418   90.47619  ",
      "text/html": "<div>\n<style scoped>\n    .dataframe tbody tr th:only-of-type {\n        vertical-align: middle;\n    }\n\n    .dataframe tbody tr th {\n        vertical-align: top;\n    }\n\n    .dataframe thead th {\n        text-align: right;\n    }\n</style>\n<table border=\"1\" class=\"dataframe\">\n  <thead>\n    <tr style=\"text-align: right;\">\n      <th></th>\n      <th>count</th>\n      <th>mean</th>\n      <th>std</th>\n      <th>min</th>\n      <th>25%</th>\n      <th>50%</th>\n      <th>75%</th>\n      <th>max</th>\n    </tr>\n    <tr>\n      <th>rating_bin</th>\n      <th></th>\n      <th></th>\n      <th></th>\n      <th></th>\n      <th></th>\n      <th></th>\n      <th></th>\n      <th></th>\n    </tr>\n  </thead>\n  <tbody>\n    <tr>\n      <th>(2900, 3000]</th>\n      <td>38.0</td>\n      <td>73.923109</td>\n      <td>12.487260</td>\n      <td>48.571429</td>\n      <td>65.885417</td>\n      <td>71.008403</td>\n      <td>81.010347</td>\n      <td>100.00000</td>\n    </tr>\n    <tr>\n      <th>(3000, 3100]</th>\n      <td>6.0</td>\n      <td>75.801808</td>\n      <td>11.228014</td>\n      <td>63.333333</td>\n      <td>66.617399</td>\n      <td>74.647177</td>\n      <td>84.486418</td>\n      <td>90.47619</td>\n    </tr>\n  </tbody>\n</table>\n</div>"
     },
     "execution_count": 186,
     "metadata": {},
     "output_type": "execute_result"
    }
   ],
   "source": [
    "streak_games_df.groupby('rating_bin', observed=True)['hikaru_stats.top_2_move_perc'].describe()"
   ],
   "metadata": {
    "collapsed": false,
    "ExecuteTime": {
     "end_time": "2024-01-04T22:07:52.750860Z",
     "start_time": "2024-01-04T22:07:52.027052Z"
    }
   },
   "id": "82073659e21c6c70"
  },
  {
   "cell_type": "markdown",
   "source": [
    "We can tell that there is some difference by looking at the mean and standard deviation. We will now focus on 2900-3000 rating ranges and calculate coefficient of variation and compare streak games to non streak games.\n",
    "\n",
    "The coefficient of variation (CV) is a relative measure of dispersion, and it tells us relative variability of each dataset. What we want to see is how different streak games CV is to the non streak games CV."
   ],
   "metadata": {
    "collapsed": false
   },
   "id": "4d870d64a1168c21"
  },
  {
   "cell_type": "code",
   "execution_count": 187,
   "outputs": [
    {
     "name": "stdout",
     "output_type": "stream",
     "text": [
      "Coefficient of variation for streak games is 16.89222775369165 compared to non streak games 16.143324727907306\n"
     ]
    }
   ],
   "source": [
    "first_group_index = list(streak_games_df.groupby('rating_bin', observed=True).groups)[0]\n",
    "\n",
    "streak_2900_3000 = streak_games_df.groupby('rating_bin', observed=True).get_group(first_group_index)['hikaru_stats.top_2_move_perc']\n",
    "\n",
    "first_group_index = list(blitz_180_no_streak_df.groupby('rating_bin', observed=True).groups)[9]\n",
    "\n",
    "no_streak_2900_3000 = blitz_180_no_streak_df.groupby('rating_bin', observed=True).get_group(first_group_index)['hikaru_stats.top_2_move_perc']\n",
    "\n",
    "def calculate_cv(df):\n",
    "    mean = df.mean()\n",
    "    std = df.std()\n",
    "    return (std/mean) * 100\n",
    "\n",
    "print(f'Coefficient of variation for streak games is {calculate_cv(streak_2900_3000)} compared to non streak games {calculate_cv(no_streak_2900_3000)}')\n"
   ],
   "metadata": {
    "collapsed": false,
    "ExecuteTime": {
     "end_time": "2024-01-04T22:07:52.751002Z",
     "start_time": "2024-01-04T22:07:52.041128Z"
    }
   },
   "id": "29880eb271940fb7"
  },
  {
   "cell_type": "markdown",
   "source": [
    "As seen above both streak and non streak games have similar variability where their coefficient of variation is around 16%. As there is no high difference in variability we will expect that streak games do have similar properties to the non streak games in regard to top two moves percentage."
   ],
   "metadata": {
    "collapsed": false
   },
   "id": "cfa12609cae723ad"
  },
  {
   "cell_type": "markdown",
   "source": [
    "Let's now plot mean of top two percentage moves for both datasets we're working with.\n",
    "We want to see if there is significant difference in mean of streak games when compared to other blitz games for rating range."
   ],
   "metadata": {
    "collapsed": false
   },
   "id": "cdc9731c9a0989f9"
  },
  {
   "cell_type": "code",
   "execution_count": 188,
   "outputs": [
    {
     "data": {
      "text/plain": "<Figure size 1500x600 with 1 Axes>",
      "image/png": "[encoded data removed]"
     },
     "metadata": {},
     "output_type": "display_data"
    }
   ],
   "source": [
    "average_percentage_streak_games = streak_games_df.groupby('rating_bin', observed=True)['hikaru_stats.top_2_move_perc'].mean().reset_index()\n",
    "average_percentage_blitz_180_no_streak = blitz_180_no_streak_df.groupby('rating_bin', observed=True)['hikaru_stats.top_2_move_perc'].mean().reset_index()\n",
    "\n",
    "plt.figure(figsize=(15, 6))\n",
    "\n",
    "combined_df = pd.concat([average_percentage_blitz_180_no_streak, average_percentage_streak_games], keys=['3 minutes (no streak games)', '\"Interesting\" Streak games'], names=['DataFrame']).reset_index()\n",
    "\n",
    "sns.barplot(x='rating_bin', y='hikaru_stats.top_2_move_perc', hue='DataFrame', data=combined_df, palette='muted')\n",
    "\n",
    "plt.title('Percentage of top 2 moves in game per Opponent Ratings range')\n",
    "plt.xlabel('Opponent Ratings range')\n",
    "plt.ylabel('Percentage of top 2 moves')\n",
    "plt.axis([4.5, 11.5, 60, 80])\n",
    "plt.legend()\n",
    "plt.show()"
   ],
   "metadata": {
    "collapsed": false,
    "ExecuteTime": {
     "end_time": "2024-01-04T22:07:52.798158Z",
     "start_time": "2024-01-04T22:07:52.059502Z"
    }
   },
   "id": "81fca88de19128a8"
  },
  {
   "cell_type": "markdown",
   "source": [
    "Here we can tell that there is a difference in percentage of top 2 moves per game when we compare streak games vs blitz games. For elo rating range 2900 - 3000 difference is about 3% and for elo rating range 3000 - 3100 is about 7%. We can also see that majority of streak games are played for 2900 - 3000 elo rating range and only 6 games where Hikaru players were in elo range of 3000 - 3100. However, these percentage still fall into range of 60% - 80%.\n",
    "\n",
    "We can also see that as the opponents rating elo increases best moves percentage of Hikaru slightly decreases.\n"
   ],
   "metadata": {
    "collapsed": false
   },
   "id": "dd8e568b7bcd1684"
  },
  {
   "cell_type": "code",
   "execution_count": 189,
   "outputs": [
    {
     "name": "stdout",
     "output_type": "stream",
     "text": [
      "Difference for elo rating range 2900 - 3000 is 3.1588837167025474\n",
      "Difference for elo rating range 3000 - 3100 is 7.119885656978184\n"
     ]
    }
   ],
   "source": [
    "bucket_one_diff = average_percentage_streak_games['hikaru_stats.top_2_move_perc'][0] - average_percentage_blitz_180_no_streak['hikaru_stats.top_2_move_perc'][9]\n",
    "bucket_two_diff = average_percentage_streak_games['hikaru_stats.top_2_move_perc'][1] - average_percentage_blitz_180_no_streak['hikaru_stats.top_2_move_perc'][10]\n",
    "\n",
    "print(f'Difference for elo rating range 2900 - 3000 is {bucket_one_diff}')\n",
    "print(f'Difference for elo rating range 3000 - 3100 is {bucket_two_diff}')"
   ],
   "metadata": {
    "collapsed": false,
    "ExecuteTime": {
     "end_time": "2024-01-04T22:07:52.798386Z",
     "start_time": "2024-01-04T22:07:52.213205Z"
    }
   },
   "id": "c8b2973e0509987d"
  },
  {
   "cell_type": "markdown",
   "source": [
    "Let's try to isolate games from the streak which don't fall within one standard deviation of top 2 moves percentage and check on them."
   ],
   "metadata": {
    "collapsed": false
   },
   "id": "928904f9b553e8df"
  },
  {
   "cell_type": "code",
   "execution_count": 190,
   "outputs": [
    {
     "data": {
      "text/plain": "     hikaru_stats.opponent_username  hikaru_stats.opponent_rating  \\\n4146                      Artur0208                        2912.0   \n4147                      Artur0208                        2910.0   \n4150                          Pe0la                        2986.0   \n4154                          Pe0la                        2980.0   \n4160                 LiamPutnam2008                        2913.0   \n4167                          Pe0la                        2964.0   \n4170                          Pe0la                        2951.0   \n4176                     artin10862                        2922.0   \n4178                     artin10862                        2918.0   \n4182                     artin10862                        2910.0   \n4183                  legendisback1                        3100.0   \n4186                  legendisback1                        3088.0   \n\n      hikaru_stats.total_moves  hikaru_stats.top_2_move_perc  \\\n4146                      23.0                     84.615385   \n4147                      45.0                     48.571429   \n4150                      25.0                    100.000000   \n4154                      11.0                    100.000000   \n4160                      71.0                     86.885246   \n4167                      13.0                    100.000000   \n4170                      31.0                     85.714286   \n4176                      24.0                     92.857143   \n4178                      20.0                     90.000000   \n4182                      29.0                     84.210526   \n4183                      48.0                     86.842105   \n4186                      31.0                     90.476190   \n\n                                              url  \n4146  https://www.chess.com/game/live/93903575753  \n4147  https://www.chess.com/game/live/93903652211  \n4150  https://www.chess.com/game/live/93904764593  \n4154  https://www.chess.com/game/live/93908308759  \n4160  https://www.chess.com/game/live/93911943083  \n4167  https://www.chess.com/game/live/93976399237  \n4170  https://www.chess.com/game/live/93977049041  \n4176  https://www.chess.com/game/live/93983582243  \n4178  https://www.chess.com/game/live/93984157067  \n4182  https://www.chess.com/game/live/93985321261  \n4183  https://www.chess.com/game/live/93992471375  \n4186  https://www.chess.com/game/live/93993167631  ",
      "text/html": "<div>\n<style scoped>\n    .dataframe tbody tr th:only-of-type {\n        vertical-align: middle;\n    }\n\n    .dataframe tbody tr th {\n        vertical-align: top;\n    }\n\n    .dataframe thead th {\n        text-align: right;\n    }\n</style>\n<table border=\"1\" class=\"dataframe\">\n  <thead>\n    <tr style=\"text-align: right;\">\n      <th></th>\n      <th>hikaru_stats.opponent_username</th>\n      <th>hikaru_stats.opponent_rating</th>\n      <th>hikaru_stats.total_moves</th>\n      <th>hikaru_stats.top_2_move_perc</th>\n      <th>url</th>\n    </tr>\n  </thead>\n  <tbody>\n    <tr>\n      <th>4146</th>\n      <td>Artur0208</td>\n      <td>2912.0</td>\n      <td>23.0</td>\n      <td>84.615385</td>\n      <td>https://www.chess.com/game/live/93903575753</td>\n    </tr>\n    <tr>\n      <th>4147</th>\n      <td>Artur0208</td>\n      <td>2910.0</td>\n      <td>45.0</td>\n      <td>48.571429</td>\n      <td>https://www.chess.com/game/live/93903652211</td>\n    </tr>\n    <tr>\n      <th>4150</th>\n      <td>Pe0la</td>\n      <td>2986.0</td>\n      <td>25.0</td>\n      <td>100.000000</td>\n      <td>https://www.chess.com/game/live/93904764593</td>\n    </tr>\n    <tr>\n      <th>4154</th>\n      <td>Pe0la</td>\n      <td>2980.0</td>\n      <td>11.0</td>\n      <td>100.000000</td>\n      <td>https://www.chess.com/game/live/93908308759</td>\n    </tr>\n    <tr>\n      <th>4160</th>\n      <td>LiamPutnam2008</td>\n      <td>2913.0</td>\n      <td>71.0</td>\n      <td>86.885246</td>\n      <td>https://www.chess.com/game/live/93911943083</td>\n    </tr>\n    <tr>\n      <th>4167</th>\n      <td>Pe0la</td>\n      <td>2964.0</td>\n      <td>13.0</td>\n      <td>100.000000</td>\n      <td>https://www.chess.com/game/live/93976399237</td>\n    </tr>\n    <tr>\n      <th>4170</th>\n      <td>Pe0la</td>\n      <td>2951.0</td>\n      <td>31.0</td>\n      <td>85.714286</td>\n      <td>https://www.chess.com/game/live/93977049041</td>\n    </tr>\n    <tr>\n      <th>4176</th>\n      <td>artin10862</td>\n      <td>2922.0</td>\n      <td>24.0</td>\n      <td>92.857143</td>\n      <td>https://www.chess.com/game/live/93983582243</td>\n    </tr>\n    <tr>\n      <th>4178</th>\n      <td>artin10862</td>\n      <td>2918.0</td>\n      <td>20.0</td>\n      <td>90.000000</td>\n      <td>https://www.chess.com/game/live/93984157067</td>\n    </tr>\n    <tr>\n      <th>4182</th>\n      <td>artin10862</td>\n      <td>2910.0</td>\n      <td>29.0</td>\n      <td>84.210526</td>\n      <td>https://www.chess.com/game/live/93985321261</td>\n    </tr>\n    <tr>\n      <th>4183</th>\n      <td>legendisback1</td>\n      <td>3100.0</td>\n      <td>48.0</td>\n      <td>86.842105</td>\n      <td>https://www.chess.com/game/live/93992471375</td>\n    </tr>\n    <tr>\n      <th>4186</th>\n      <td>legendisback1</td>\n      <td>3088.0</td>\n      <td>31.0</td>\n      <td>90.476190</td>\n      <td>https://www.chess.com/game/live/93993167631</td>\n    </tr>\n  </tbody>\n</table>\n</div>"
     },
     "execution_count": 190,
     "metadata": {},
     "output_type": "execute_result"
    }
   ],
   "source": [
    "std = blitz_180_no_streak_df['hikaru_stats.top_2_move_perc'].std()\n",
    "mean = blitz_180_no_streak_df['hikaru_stats.top_2_move_perc'].mean()\n",
    "\n",
    "not_within_std = streak_games_df[(streak_games_df['hikaru_stats.top_2_move_perc'] < mean - std) | (streak_games_df['hikaru_stats.top_2_move_perc'] > mean + std)]\n",
    "not_within_std[['hikaru_stats.opponent_username', 'hikaru_stats.opponent_rating', 'hikaru_stats.total_moves', 'hikaru_stats.top_2_move_perc', 'url']]"
   ],
   "metadata": {
    "collapsed": false,
    "ExecuteTime": {
     "end_time": "2024-01-04T22:07:52.798442Z",
     "start_time": "2024-01-04T22:07:52.216916Z"
    }
   },
   "id": "286a8d7ea94cfea5"
  },
  {
   "cell_type": "markdown",
   "source": [
    "There are 12 games from the \"interesting\" streak games where top 2 moves percentage is outside standard deviation. Some of these moves do have relatively small amount of moves that we take in consideration when calculating move ratings (we ignore first 10 moves as we consider them opening phase. Check data notebook for more on this). However, some of these games do have high percentage of top 2 moves even with higher number of moves therefore we will take sample of them to analyze.\n",
    "\n",
    "<br>\n",
    "\n",
    "##### Game 4150 Hikaru - Pe0la\n",
    "This is 25 moves game and top two moves percentage made by Hikaru is 100%. This essentially means that last 15 moves of the game Hikaru played one of the two moves that are classified as best by stockfish. This game Hikaru won with accuracy of 97.4 with 4 great moves being played. \n",
    "First great move is on move 18 where Hikaru played Ra1:\n",
    "\n",
    "<br>\n",
    "\n",
    "<img src=\"data/photos/case2/great-move-1.png\" width=\"700\" height=\"700\" />\n",
    "\n",
    "<br>\n",
    "\n",
    "Apparently this is first time in the game where Hikaru used more time for thinking, and it took him 23 seconds to play this move. The next great move made by Hikaru is on move 20 where he also took significant thinking time of 22 seconds.\n",
    "\n",
    "<br> \n",
    "\n",
    "<img src=\"data/photos/case2/great-move-2.png\" width=\"700\" height=\"700\" />\n",
    "\n",
    "<br>\n",
    "\n",
    "Next two greate moves were made rather instantaneously and game was quickly over after 25th move. Note that, even when taking longer thinking time on these two great moves Hikaru was still up on clock against his opponent which demonstrates excellent time management skills. \n",
    "\n",
    "<br><br>\n",
    "\n",
    "##### Game 4186 Hikaru - legendisback1\n",
    "\n",
    "In this game Hikaru in his opponent played 31 move where, even though he made one blunder which his opponent didn't take advantage of, Hikaru won with 93.9 accuracy. Advantage was given to Hikaru by his opponent on move 25 where he played bxc5.\n",
    "<br> \n",
    "\n",
    "<img src=\"data/photos/case3/opponent_mistake_1.png\" width=\"700\" height=\"700\" />\n",
    "\n",
    "<br>\n",
    "\n",
    "Hikaru played the best obvious move dxc5 instantly and his opponent quickly played Rb8 move. After this Hikaru took 36 seconds to play next move (b6) which according to stockfish evaluation is the best one and keeps advantage.\n",
    "\n",
    "<br>\n",
    "<img src=\"data/photos/case3/best_move_1.png\" width=\"700\" height=\"700\" />\n",
    "<br>\n",
    "\n",
    "Shortly after this Hikaru was able to keep and increase his advantage which lead him to win on move 31. Similarly to the previous example, Hikaru was better on clock in this game and could afford spending time in such situations.\n",
    "\n",
    "<br>\n",
    "\n",
    "Even though we can see there are key situations where Hikaru took some time for thinking and played best moves it is not unusual for GM such as Hikaru to sense the key moments and spend more time on calculating variations. Given that Hikaru does play rather quickly he is able to \"save\" some time for later use when he can sense the moment may be key moment for thinking. \n",
    "\n",
    "However, we want to check on how often Hikaru senses these and takes advantage of his opponent as well how long usually he thinks on such moves. \n",
    "\n",
    "First let's switch to check stats average time taken for making one of the top two moves and see how these numbers correlate to what we saw up till now."
   ],
   "metadata": {
    "collapsed": false
   },
   "id": "dcc21f6fe095a046"
  },
  {
   "cell_type": "code",
   "execution_count": 191,
   "outputs": [
    {
     "data": {
      "text/plain": "<Figure size 1500x600 with 1 Axes>",
      "image/png": "[encoded data removed]"
     },
     "metadata": {},
     "output_type": "display_data"
    }
   ],
   "source": [
    "average_time_streak_games = streak_games_df.groupby('rating_bin', observed=True)['hikaru_stats.top_2_move_avg'].mean().reset_index()\n",
    "average_time_blitz_180_no_streak = blitz_180_no_streak_df.groupby('rating_bin', observed=True)['hikaru_stats.top_2_move_avg'].mean().reset_index()\n",
    "\n",
    "plt.figure(figsize=(15, 6))\n",
    "\n",
    "combined_df = pd.concat([average_time_blitz_180_no_streak, average_time_streak_games], keys=['3 minutes (no streak games)', '\"Interesting\" Streak games'], names=['DataFrame']).reset_index()\n",
    "\n",
    "sns.barplot(x='rating_bin', y='hikaru_stats.top_2_move_avg', hue='DataFrame', data=combined_df, palette='muted')\n",
    "\n",
    "plt.title('Average thinking time of top 2 moves in game per Opponent Ratings range')\n",
    "plt.xlabel('Opponent Ratings range')\n",
    "plt.ylabel('Average thinking time of top 2 moves')\n",
    "plt.axis([4.5, 11.5, 0, 5])\n",
    "plt.legend()\n",
    "plt.show()"
   ],
   "metadata": {
    "collapsed": false,
    "ExecuteTime": {
     "end_time": "2024-01-04T22:07:52.820889Z",
     "start_time": "2024-01-04T22:07:52.232485Z"
    }
   },
   "id": "8883e8b22932b028"
  },
  {
   "cell_type": "markdown",
   "source": [
    "Simply looking at the plot from above there is no significant difference comparing streak games to other blitz games. In general as opponent rating increases so does Hikaru's thinking time.\n",
    "\n",
    "However, in above analysis we did see that sometimes GM Hikaru does take significantly more time for making a good move. Let's see details on average time taken by top two moves."
   ],
   "metadata": {
    "collapsed": false
   },
   "id": "a5e0d148abb43440"
  },
  {
   "cell_type": "code",
   "execution_count": 192,
   "outputs": [
    {
     "data": {
      "text/plain": "count    3610.000000\nmean        2.690785\nstd         1.245667\nmin         0.000000\n25%         1.900000\n50%         2.503992\n75%         3.238536\nmax        20.100000\nName: hikaru_stats.top_2_move_avg, dtype: float64"
     },
     "execution_count": 192,
     "metadata": {},
     "output_type": "execute_result"
    }
   ],
   "source": [
    "blitz_180_no_streak_df['hikaru_stats.top_2_move_avg'].describe()"
   ],
   "metadata": {
    "collapsed": false,
    "ExecuteTime": {
     "end_time": "2024-01-04T22:07:52.821143Z",
     "start_time": "2024-01-04T22:07:52.382707Z"
    }
   },
   "id": "9527cd0174c4febb"
  },
  {
   "cell_type": "markdown",
   "source": [
    "As we can tell, it is taking usually 3 seconds for Hikaru to make one of the best two moves with standard deviation of 1.5. Lets now see the games out of streak games where such metric is not within two standard deviations (covering 95% of the games)."
   ],
   "metadata": {
    "collapsed": false
   },
   "id": "441bb3b109ca9fbc"
  },
  {
   "cell_type": "code",
   "execution_count": 193,
   "outputs": [
    {
     "data": {
      "text/plain": "     hikaru_stats.opponent_username  hikaru_stats.opponent_rating  \\\n4167                          Pe0la                        2964.0   \n4170                          Pe0la                        2951.0   \n4179                     artin10862                        2916.0   \n4186                  legendisback1                        3088.0   \n\n      hikaru_stats.total_moves  hikaru_stats.top_2_move_avg  \\\n4167                      13.0                     8.500000   \n4170                      31.0                     5.238889   \n4179                      19.0                     5.757143   \n4186                      31.0                     5.963158   \n\n      hikaru_stats.top_2_move_perc  \\\n4167                    100.000000   \n4170                     85.714286   \n4179                     77.777778   \n4186                     90.476190   \n\n                                              url  \n4167  https://www.chess.com/game/live/93976399237  \n4170  https://www.chess.com/game/live/93977049041  \n4179  https://www.chess.com/game/live/93984197957  \n4186  https://www.chess.com/game/live/93993167631  ",
      "text/html": "<div>\n<style scoped>\n    .dataframe tbody tr th:only-of-type {\n        vertical-align: middle;\n    }\n\n    .dataframe tbody tr th {\n        vertical-align: top;\n    }\n\n    .dataframe thead th {\n        text-align: right;\n    }\n</style>\n<table border=\"1\" class=\"dataframe\">\n  <thead>\n    <tr style=\"text-align: right;\">\n      <th></th>\n      <th>hikaru_stats.opponent_username</th>\n      <th>hikaru_stats.opponent_rating</th>\n      <th>hikaru_stats.total_moves</th>\n      <th>hikaru_stats.top_2_move_avg</th>\n      <th>hikaru_stats.top_2_move_perc</th>\n      <th>url</th>\n    </tr>\n  </thead>\n  <tbody>\n    <tr>\n      <th>4167</th>\n      <td>Pe0la</td>\n      <td>2964.0</td>\n      <td>13.0</td>\n      <td>8.500000</td>\n      <td>100.000000</td>\n      <td>https://www.chess.com/game/live/93976399237</td>\n    </tr>\n    <tr>\n      <th>4170</th>\n      <td>Pe0la</td>\n      <td>2951.0</td>\n      <td>31.0</td>\n      <td>5.238889</td>\n      <td>85.714286</td>\n      <td>https://www.chess.com/game/live/93977049041</td>\n    </tr>\n    <tr>\n      <th>4179</th>\n      <td>artin10862</td>\n      <td>2916.0</td>\n      <td>19.0</td>\n      <td>5.757143</td>\n      <td>77.777778</td>\n      <td>https://www.chess.com/game/live/93984197957</td>\n    </tr>\n    <tr>\n      <th>4186</th>\n      <td>legendisback1</td>\n      <td>3088.0</td>\n      <td>31.0</td>\n      <td>5.963158</td>\n      <td>90.476190</td>\n      <td>https://www.chess.com/game/live/93993167631</td>\n    </tr>\n  </tbody>\n</table>\n</div>"
     },
     "execution_count": 193,
     "metadata": {},
     "output_type": "execute_result"
    }
   ],
   "source": [
    "top_2_move_avg_std = blitz_180_no_streak_df['hikaru_stats.top_2_move_avg'].std()\n",
    "top_2_move_avg_mean = blitz_180_no_streak_df['hikaru_stats.top_2_move_avg'].mean()\n",
    "\n",
    "not_within_std = streak_games_df[(streak_games_df['hikaru_stats.top_2_move_avg'] < top_2_move_avg_mean - 2 *top_2_move_avg_std) | (streak_games_df['hikaru_stats.top_2_move_avg'] > top_2_move_avg_mean + 2 *top_2_move_avg_std)]\n",
    "not_within_std[['hikaru_stats.opponent_username', 'hikaru_stats.opponent_rating', 'hikaru_stats.total_moves', 'hikaru_stats.top_2_move_avg', 'hikaru_stats.top_2_move_perc', 'url']]"
   ],
   "metadata": {
    "collapsed": false,
    "ExecuteTime": {
     "end_time": "2024-01-04T22:07:52.822790Z",
     "start_time": "2024-01-04T22:07:52.388018Z"
    }
   },
   "id": "b45c32d420ab4129"
  },
  {
   "cell_type": "markdown",
   "source": [
    "We can see that there are 4 games in which GM Hikaru did take a longer thinking time in average and which do not fall within two standard deviations of all 3+0 games. Two of these games do have relatively small total moves so lets check other two.\n",
    "\n",
    "<br>\n",
    "\n",
    "##### Game 4186 Hikaru - legendisback1\n",
    "\n",
    "This is game that we already looked at before when we were checking unusual percentage of top 2 moves. As we already covered this game there is no need to through it again.\n",
    "\n",
    "However, after checking this particular game I did realize that simply checking top 2 moves average time taken is not the best metric to look at. Simply because Hikaru may take 60 seconds on move 1 and then 1 second on 9 next moves which will result in average being 6.9 seconds which doesn't tell the whole story. Other metrics such as median or mode wouldn't help either. What we want to do here is to find specific moves within these games that are outliers in some aspect. As of now we only have averages on games we need to create separate data frames out of moves data and check specific moves metric. "
   ],
   "metadata": {
    "collapsed": false
   },
   "id": "8369526663871180"
  },
  {
   "cell_type": "markdown",
   "source": [
    "## On moves, deep dive\n",
    "\n",
    "Here, instead of working on game level averages, we will explode our data with moves and will look at the moves. As we did above, we'll start with top two moves."
   ],
   "metadata": {
    "collapsed": false
   },
   "id": "7d1800f68f02f108"
  },
  {
   "cell_type": "code",
   "execution_count": 204,
   "outputs": [],
   "source": [
    "for i, row in blitz_180_no_streak_df.iterrows():\n",
    "    moves = row['moves']\n",
    "    if isinstance(moves, list):\n",
    "        for move in moves:\n",
    "            move['game_uuid'] = row['uuid']\n",
    "            move['game_url'] = row['url']\n",
    "            move['rating_bin'] = row['rating_bin']\n",
    "\n",
    "\n",
    "for i, row in streak_games_df.iterrows():\n",
    "    moves = row['moves']\n",
    "    if isinstance(moves, list):\n",
    "        for move in moves:\n",
    "            move['game_uuid'] = row['uuid']\n",
    "            move['game_url'] = row['url']\n",
    "            move['rating_bin'] = row['rating_bin']\n",
    "            \n",
    "blitz_180_no_streak_moves_df = pd.json_normalize(blitz_180_no_streak_df.explode('moves')['moves'])\n",
    "streak_games_moves_df = pd.json_normalize(streak_games_df.explode('moves')['moves'])"
   ],
   "metadata": {
    "collapsed": false,
    "ExecuteTime": {
     "end_time": "2024-01-04T22:17:46.455825Z",
     "start_time": "2024-01-04T22:17:35.376008Z"
    }
   },
   "id": "b01aaf4511083cd4"
  },
  {
   "cell_type": "markdown",
   "source": [],
   "metadata": {
    "collapsed": false
   },
   "id": "3cd986e566b35212"
  },
  {
   "cell_type": "markdown",
   "source": [
    "Let's start simply by plotting distribution of top two moves averages for rating ranges we care about"
   ],
   "metadata": {
    "collapsed": false
   },
   "id": "fb29fb8373e9d04d"
  },
  {
   "cell_type": "code",
   "execution_count": null,
   "outputs": [],
   "source": [
    "top_two_for_target_rating_range_streak_df = streak_games_moves_df.query('player == \"Hikaru\" & phase != \"OPENING\" & best_move == True & rating_bin in @target_intervals')\n"
   ],
   "metadata": {
    "collapsed": false
   },
   "id": "c24d7c12a3707bf4"
  },
  {
   "cell_type": "markdown",
   "source": [
    "From the plot above we can tell that the majority of the only moves played by Hikaru were in range of 0 - 5 seconds time taken. However it is not uncommon for Hikaru to play these moves for longer period up to the ~10 seconds. Less time taken durations are much less common. Let's now print the same distribution for the streak games and see if they have unusual patterns."
   ],
   "metadata": {
    "collapsed": false
   },
   "id": "634e69bd31eab08f"
  },
  {
   "cell_type": "code",
   "execution_count": 232,
   "outputs": [
    {
     "data": {
      "text/plain": "              count      mean       std  min    25%   50%    75%   max\nrating_bin                                                            \n(2900, 3000]  210.0  3.510476  4.611260  0.1  1.100  1.95  4.175  33.8\n(3000, 3100]   42.0  2.607143  2.541403  0.1  1.025  1.70  3.075  12.6",
      "text/html": "<div>\n<style scoped>\n    .dataframe tbody tr th:only-of-type {\n        vertical-align: middle;\n    }\n\n    .dataframe tbody tr th {\n        vertical-align: top;\n    }\n\n    .dataframe thead th {\n        text-align: right;\n    }\n</style>\n<table border=\"1\" class=\"dataframe\">\n  <thead>\n    <tr style=\"text-align: right;\">\n      <th></th>\n      <th>count</th>\n      <th>mean</th>\n      <th>std</th>\n      <th>min</th>\n      <th>25%</th>\n      <th>50%</th>\n      <th>75%</th>\n      <th>max</th>\n    </tr>\n    <tr>\n      <th>rating_bin</th>\n      <th></th>\n      <th></th>\n      <th></th>\n      <th></th>\n      <th></th>\n      <th></th>\n      <th></th>\n      <th></th>\n    </tr>\n  </thead>\n  <tbody>\n    <tr>\n      <th>(2900, 3000]</th>\n      <td>210.0</td>\n      <td>3.510476</td>\n      <td>4.611260</td>\n      <td>0.1</td>\n      <td>1.100</td>\n      <td>1.95</td>\n      <td>4.175</td>\n      <td>33.8</td>\n    </tr>\n    <tr>\n      <th>(3000, 3100]</th>\n      <td>42.0</td>\n      <td>2.607143</td>\n      <td>2.541403</td>\n      <td>0.1</td>\n      <td>1.025</td>\n      <td>1.70</td>\n      <td>3.075</td>\n      <td>12.6</td>\n    </tr>\n  </tbody>\n</table>\n</div>"
     },
     "execution_count": 232,
     "metadata": {},
     "output_type": "execute_result"
    }
   ],
   "source": [
    "only_moves_for_target_rating_range_streak_df = streak_games_moves_df.query('player == \"Hikaru\" & phase != \"OPENING\" & only_move == True & rating_bin in @target_intervals')\n",
    "\n",
    "only_moves_for_target_rating_range_streak_df.groupby('rating_bin')['time_took'].describe()"
   ],
   "metadata": {
    "collapsed": false,
    "ExecuteTime": {
     "end_time": "2024-01-04T22:37:11.062116Z",
     "start_time": "2024-01-04T22:37:11.033513Z"
    }
   },
   "id": "7d2155cbdc31e883"
  },
  {
   "cell_type": "code",
   "execution_count": 239,
   "outputs": [
    {
     "data": {
      "text/plain": "<Figure size 500x500 with 1 Axes>",
      "image/png": "[encoded data removed]"
     },
     "metadata": {},
     "output_type": "display_data"
    }
   ],
   "source": [
    "sns.displot(only_moves_for_target_rating_range_streak_df['time_took'], kde=True, bins=20, color='skyblue', stat=\"percent\")\n",
    "\n",
    "plt.title('Distribution Plot of Only Moves time taken', fontsize=16)\n",
    "plt.xlabel('Only moves time taken', fontsize=12)\n",
    "plt.ylabel('Percentages', fontsize=12)\n",
    "plt.axis([0, 20, 0, 50])\n",
    "\n",
    "plt.show()"
   ],
   "metadata": {
    "collapsed": false,
    "ExecuteTime": {
     "end_time": "2024-01-04T22:40:26.387170Z",
     "start_time": "2024-01-04T22:40:26.253726Z"
    }
   },
   "id": "3a5f96bb4a74a6d"
  },
  {
   "cell_type": "markdown",
   "source": [
    "Just by looking at these two plots there doesn't seem to be any significant difference in times taken by only moves. Let's now use a technique called isolation forest to try to identify outliers in our dataset and check these games/moves. We will first select several features that we want to use in algorithm and then will train the model on no streak games. After that we will use streak games to give us predictions on whether some streak games are outliers and we will investigate further the streak games.\n",
    "\n",
    "### Isolation forest\n",
    "\n",
    "The features that we will select for this run are:\n",
    "\n",
    "- Normalized CP (in case of mate we will pick (+-) 10k as a value\n",
    "- Is move top two move\n",
    "- Phase of the game\n",
    "- Number of pieces left\n",
    "- Color of player\n",
    "- Was move made under time pressure\n",
    "- What was time took for the move\n",
    "- What is time left\n",
    "- How much time we got more (or less) then opponent\n",
    "\n",
    "As Isolation forest works with numerical data lets first encode all our data to numerical and let's add meaningful replacements for null values. Also, we will build model on top only moves played in 2900 - 3100 rating range."
   ],
   "metadata": {
    "collapsed": false
   },
   "id": "4878ac896ad9f11e"
  },
  {
   "cell_type": "code",
   "execution_count": 248,
   "outputs": [
    {
     "name": "stdout",
     "output_type": "stream",
     "text": [
      "<class 'pandas.core.frame.DataFrame'>\n",
      "Index: 10041 entries, 119 to 325007\n",
      "Data columns (total 33 columns):\n",
      " #   Column                         Non-Null Count  Dtype                   \n",
      "---  ------                         --------------  -----                   \n",
      " 0   move                           10041 non-null  object                  \n",
      " 1   best_move                      10041 non-null  object                  \n",
      " 2   pieces                         10041 non-null  float64                 \n",
      " 3   phase                          10041 non-null  object                  \n",
      " 4   playing                        10041 non-null  object                  \n",
      " 5   player                         10041 non-null  object                  \n",
      " 6   under_time_pressure            10041 non-null  object                  \n",
      " 7   time_took                      10041 non-null  float64                 \n",
      " 8   time_left                      10041 non-null  float64                 \n",
      " 9   game_uuid                      10041 non-null  object                  \n",
      " 10  game_url                       10041 non-null  object                  \n",
      " 11  rating_bin                     10041 non-null  interval[float64, right]\n",
      " 12  eval.type                      10041 non-null  object                  \n",
      " 13  eval.value                     10041 non-null  float64                 \n",
      " 14  wdl.win                        10027 non-null  float64                 \n",
      " 15  wdl.draw                       10027 non-null  float64                 \n",
      " 16  wdl.loose                      10027 non-null  float64                 \n",
      " 17  eval_flags.wp                  10041 non-null  float64                 \n",
      " 18  opponent_time_diff             10041 non-null  float64                 \n",
      " 19  only_move                      10041 non-null  object                  \n",
      " 20  wdl_flags.bad_move             121 non-null    object                  \n",
      " 21  eval_flags.good                2307 non-null   object                  \n",
      " 22  wdl_flags.keep_advantage_move  5078 non-null   object                  \n",
      " 23  eval_flags.excellent           5943 non-null   object                  \n",
      " 24  wdl_flags.take_advantage_move  3324 non-null   object                  \n",
      " 25  wdl_flags.recover_move         2415 non-null   object                  \n",
      " 26  eval_flags.mistake             418 non-null    object                  \n",
      " 27  only_move_on_mistake           3223 non-null   object                  \n",
      " 28  eval_flags.inaccuracy          940 non-null    object                  \n",
      " 29  only_move_on_inaccuracy        5028 non-null   object                  \n",
      " 30  eval_flags.best                295 non-null    object                  \n",
      " 31  eval_flags.blunder             138 non-null    object                  \n",
      " 32  only_move_on_blunder           1790 non-null   object                  \n",
      "dtypes: float64(9), interval(1), object(23)\n",
      "memory usage: 2.7+ MB\n"
     ]
    }
   ],
   "source": [
    "only_moves_for_target_rating_range_blitz_180_df.info()\n",
    "\n",
    "def normalize_cp(row):\n",
    "    type = row['eval.type']\n",
    "    \n",
    "\n",
    "only_moves_for_target_rating_range_blitz_180_df['if_cp'] = only_moves_for_target_rating_range_blitz_180_df.apply(normalize_cp, axis=1)\n"
   ],
   "metadata": {
    "collapsed": false,
    "ExecuteTime": {
     "end_time": "2024-01-05T20:47:10.863061Z",
     "start_time": "2024-01-05T20:47:10.778795Z"
    }
   },
   "id": "17a55093dd5aecd5"
  },
  {
   "cell_type": "markdown",
   "source": [
    "### Moves performance analysis\n",
    "\n",
    "So after realizing our provided metrics do not tell us a lot we will build here a custom metric what we will call 'move_performance'. It will be our custom algorithm which will consider several features of our dataset. After adding this field to our dataset we will perform analysis again and check if there are moves that are outliers compared to other moves. Now, lets briefly talk on which how move features will affect move performance score.\n",
    "\n",
    "Move performance score will be on scale 0 - 1 where 0 is least performance and 1 is best possible performance. Each feature will be weighted so not all features will contribute the same to the move performance score.\n",
    "\n",
    "<br>\n",
    "\n",
    "##### Positive normalized CP\n",
    "\n",
    "As we did normalize CP before we will use same value here. Normalization basically means setting the value for CP in case of 'mate' type to +-10k. Positive means that we will multiply the normalized CP with -1 for black moves to switch the evaluation sign, so we get positive value as 'good' value or negative value as 'bad' value. We will give this flag weight of 10%.\n",
    "\n",
    "##### Move classification score diff\n",
    "If you remember, in our data extraction we tried to mimic on how chess.com evaluate moves. We have stored what chess.com refers as \"Expected points\" as `wp` in our data, and we will use diff of two WPs in our algorithm. This value we will call Move classification score diff as Expected points are used to classify points. As this value is actually important for evaluation of move it will get the highest possible weight of 40%.\n",
    "\n",
    "##### Time taken relative to time left\n",
    "\n",
    "This is a value taken by comparing time taken for a move to a total time left to do the move. As this comparison will give us percentage of time used out of time left, the less it is the better it is for move performance analysis.\n",
    "\n",
    "##### Time taken relative to the opponent time left\n",
    "\n",
    "\n",
    "##### Time taken in previous opponent move \n",
    "\n",
    "\n",
    "##### Pieces left\n",
    "\n"
   ],
   "metadata": {
    "collapsed": false
   },
   "id": "488ef1e4b7ed2659"
  },
  {
   "cell_type": "markdown",
   "source": [
    "## Move classifications below..."
   ],
   "metadata": {
    "collapsed": false
   },
   "id": "de85fd069d483999"
  },
  {
   "cell_type": "code",
   "execution_count": null,
   "outputs": [],
   "source": [
    "columns_to_stack = ['hikaru_stats.excellent_move_perc', 'hikaru_stats.best_move_perc', 'hikaru_stats.good_move_perc', 'hikaru_stats.inaccuracy_move_perc', 'hikaru_stats.mistake_move_perc', 'hikaru_stats.blunder_move_perc']\n",
    "\n",
    "streak_games_classification_df = streak_games_df.groupby('rating_bin', observed=True).agg({\n",
    "    'hikaru_stats.best_move_perc': 'mean',\n",
    "    'hikaru_stats.excellent_move_perc': 'mean',\n",
    "    'hikaru_stats.good_move_perc': 'mean',\n",
    "    'hikaru_stats.inaccuracy_move_perc': 'mean',\n",
    "    'hikaru_stats.mistake_move_perc': 'mean',\n",
    "    'hikaru_stats.blunder_move_perc': 'mean'\n",
    "}).reset_index()\n",
    "\n",
    "all_blitz_no_streak_classification_df = blitz_180_no_streak_df.groupby('rating_bin', observed=True).agg({\n",
    "    'hikaru_stats.best_move_perc': 'mean',\n",
    "    'hikaru_stats.excellent_move_perc': 'mean',\n",
    "    'hikaru_stats.good_move_perc': 'mean',\n",
    "    'hikaru_stats.inaccuracy_move_perc': 'mean',\n",
    "    'hikaru_stats.mistake_move_perc': 'mean',\n",
    "    'hikaru_stats.blunder_move_perc': 'mean'\n",
    "}).reset_index()\n",
    "\n",
    "\n",
    "df_plt = all_blitz_no_streak_classification_df.set_index('rating_bin').plot(kind='bar', stacked=True, figsize=(15, 6))\n",
    "df_plt.axis([4.5, 11.5, 0, 100])\n",
    "df_plt.legend(loc='center left', bbox_to_anchor=(1, 0.5))"
   ],
   "metadata": {
    "collapsed": false,
    "ExecuteTime": {
     "start_time": "2024-01-04T22:07:58.960103Z"
    }
   },
   "id": "a522edb4bd3f2929"
  },
  {
   "cell_type": "code",
   "execution_count": null,
   "outputs": [],
   "source": [
    "df_plt = streak_games_classification_df.set_index('rating_bin').plot(kind='bar', stacked=True, figsize=(7, 6))\n",
    "df_plt.legend(loc='center left', bbox_to_anchor=(1, 0.5))"
   ],
   "metadata": {
    "collapsed": false,
    "ExecuteTime": {
     "start_time": "2024-01-04T22:07:58.961191Z"
    }
   },
   "id": "474c6998177da241"
  },
  {
   "cell_type": "markdown",
   "source": [
    "We can tell that, as for the top 2 moves percentage, Hikaru does make good moves >80% of the time which is expected given his expertize. To be honest, I was expecting this number to be even >90%. We can also tell that \"interesting\" streak games do not deviate from his non streak games, if anything he makes less Best moves which is the best possible option. Let's see these numbers in table"
   ],
   "metadata": {
    "collapsed": false
   },
   "id": "122be2b0f2fbb7ac"
  },
  {
   "cell_type": "code",
   "execution_count": null,
   "outputs": [],
   "source": [
    "numerical_columns = all_blitz_no_streak_classification_df.select_dtypes(include='number').columns\n",
    "all_blitz_no_streak_classification_subset_df = all_blitz_no_streak_classification_df.iloc[9:11, :].reset_index(drop=True)\n",
    "numerical_difference = streak_games_classification_df[numerical_columns] - all_blitz_no_streak_classification_subset_df[numerical_columns]\n",
    "\n",
    "\n",
    "print(numerical_difference.to_markdown(headers=['Best Move Diff', 'Excellent Move Diff', 'Good Move Diff', 'Inaccuracy Move Diff', 'Mistake Move Diff', 'Blunder Move Diff']))"
   ],
   "metadata": {
    "collapsed": false,
    "ExecuteTime": {
     "start_time": "2024-01-04T22:07:58.962430Z"
    }
   },
   "id": "247a16647be5d935"
  },
  {
   "cell_type": "markdown",
   "source": [
    "So in \"interesting\" streak games Hikaru did make less \"Best\" moves for 1.4% and more excellent moves for 4.7%. If we compare this to top 2 moves percentage statistic we did before what it actually means is that Hikaru in his \"interesting\" streak games did make less first choice stockfish moves but more second choice stockfish moves. Also, in general, Hikaru did make less bad moves compared to his other blitz games.\n",
    "\n",
    "Second row in this table is for range 3000 - 3100 elo range but only for 6 games played therefore not a lot of meaningful analytics can be taken out of it.\n",
    "\n",
    "So far we saw on how Hikaru played these \"interesting\" streak games, but let's see how his opponents did play. We'll gather same stats we did for Hikaru for his opponents and what we are interested in is to see if his opponents during streak games did make more bad moves compared to in general opponents."
   ],
   "metadata": {
    "collapsed": false
   },
   "id": "db5374cfe49f61a"
  },
  {
   "cell_type": "code",
   "execution_count": null,
   "outputs": [],
   "source": [
    "opponent_streak_games_classification_df = streak_games_df.groupby('rating_bin', observed=True).agg({\n",
    "    'opponent_stats.best_move_perc': 'mean',\n",
    "    'opponent_stats.excellent_move_perc': 'mean',\n",
    "    'opponent_stats.good_move_perc': 'mean',\n",
    "    'opponent_stats.inaccuracy_move_perc': 'mean',\n",
    "    'opponent_stats.mistake_move_perc': 'mean',\n",
    "    'opponent_stats.blunder_move_perc': 'mean'\n",
    "}).reset_index()\n",
    "\n",
    "opponent_all_blitz_no_streak_classification_df = blitz_180_no_streak_df.groupby('rating_bin', observed=True).agg({\n",
    "    'opponent_stats.best_move_perc': 'mean',\n",
    "    'opponent_stats.excellent_move_perc': 'mean',\n",
    "    'opponent_stats.good_move_perc': 'mean',\n",
    "    'opponent_stats.inaccuracy_move_perc': 'mean',\n",
    "    'opponent_stats.mistake_move_perc': 'mean',\n",
    "    'opponent_stats.blunder_move_perc': 'mean'\n",
    "}).reset_index()\n",
    "\n",
    "\n",
    "df_plt = opponent_all_blitz_no_streak_classification_df.set_index('rating_bin').plot(kind='bar', stacked=True, figsize=(15, 6))\n",
    "df_plt.axis([4.5, 11.5, 0, 100])\n",
    "df_plt.legend(loc='center left', bbox_to_anchor=(1, 0.5))"
   ],
   "metadata": {
    "collapsed": false,
    "ExecuteTime": {
     "end_time": "2024-01-04T22:07:58.967742Z",
     "start_time": "2024-01-04T22:07:58.963757Z"
    }
   },
   "id": "7c6a8a4b90cfdec9"
  },
  {
   "cell_type": "code",
   "execution_count": null,
   "outputs": [],
   "source": [
    "opponent_df_plt = opponent_streak_games_classification_df.set_index('rating_bin').plot(kind='bar', stacked=True, figsize=(7, 6))\n",
    "opponent_df_plt.legend(loc='center left', bbox_to_anchor=(1, 0.5))"
   ],
   "metadata": {
    "collapsed": false,
    "ExecuteTime": {
     "start_time": "2024-01-04T22:07:58.965016Z"
    }
   },
   "id": "5abd3f1645ef6635"
  },
  {
   "cell_type": "code",
   "execution_count": null,
   "outputs": [],
   "source": [
    "opponent_numerical_columns = opponent_all_blitz_no_streak_classification_df.select_dtypes(include='number').columns\n",
    "opponent_all_blitz_no_streak_classification_subset_df = opponent_all_blitz_no_streak_classification_df.iloc[9:11, :].reset_index(drop=True)\n",
    "opponent_numerical_difference = opponent_streak_games_classification_df[opponent_numerical_columns] - opponent_all_blitz_no_streak_classification_subset_df[opponent_numerical_columns]\n",
    "\n",
    "\n",
    "print(opponent_numerical_difference.to_markdown(headers=['Best Move Diff', 'Excellent Move Diff', 'Good Move Diff', 'Inaccuracy Move Diff', 'Mistake Move Diff', 'Blunder Move Diff']))"
   ],
   "metadata": {
    "collapsed": false,
    "ExecuteTime": {
     "start_time": "2024-01-04T22:07:58.966372Z"
    }
   },
   "id": "fb31d419167fc95a"
  },
  {
   "cell_type": "markdown",
   "source": [
    "As expected, we can see that Hikaru's opponents in \"interesting\" streak games did make less good moves and a slightly more bad moves. In good moves category, they did more good moves which leads to evaluation loss in between 0.02 - 0.05 and did much less excellent and best moves which give better chances in game and leads to better situation. In bad moves category, they did less inaccurate moves (which is the best category in bad) and did a slightly more mistake and blunder moves.\n",
    "\n",
    "In general all of this seems to align with what GM Hikaru Nakamura is saying about cherry-picking his opponents. Apparently these opponents do play slightly worse then the rest of the opponents Hikaru played against in same rating bucket and Hikaru is able to play better against them compared to the others. \n",
    "\n",
    "Let's go back to Hikaru's stats and see average thinking time per move classification."
   ],
   "metadata": {
    "collapsed": false
   },
   "id": "db577c5828ca7155"
  },
  {
   "cell_type": "code",
   "execution_count": null,
   "outputs": [],
   "source": [
    "streak_games_time_classification_df = streak_games_df.groupby('rating_bin', observed=True).agg({\n",
    "    'hikaru_stats.best_move_avg': 'mean',\n",
    "    'hikaru_stats.excellent_move_avg': 'mean',\n",
    "    'hikaru_stats.good_move_avg': 'mean',\n",
    "    'hikaru_stats.inaccuracy_move_avg': 'mean',\n",
    "    'hikaru_stats.mistake_move_avg': 'mean',\n",
    "    'hikaru_stats.blunder_move_avg': 'mean'\n",
    "}).reset_index()\n",
    "\n",
    "all_blitz_no_streak_time_classification_df = all_blitz_no_streak_df.groupby('rating_bin', observed=True).agg({\n",
    "    'hikaru_stats.best_move_avg': 'mean',\n",
    "    'hikaru_stats.excellent_move_avg': 'mean',\n",
    "    'hikaru_stats.good_move_avg': 'mean',\n",
    "    'hikaru_stats.inaccuracy_move_avg': 'mean',\n",
    "    'hikaru_stats.mistake_move_avg': 'mean',\n",
    "    'hikaru_stats.blunder_move_avg': 'mean'\n",
    "}).reset_index()\n",
    "\n",
    "df_plt = all_blitz_no_streak_time_classification_df.set_index('rating_bin').plot(kind='bar', stacked=True, figsize=(15, 6))\n",
    "df_plt.axis([4.5, 11.5, 0, 25])\n",
    "df_plt.legend(loc='center left', bbox_to_anchor=(1, 0.5))\n",
    "df_plt.set_title('All blitz game without streak, average time taken by Hikaru per move category')\n",
    "\n",
    "print(all_blitz_no_streak_time_classification_df.iloc[5:12, :].to_markdown(headers=['Opponent range', 'Best Move Avg', 'Excellent Move Avg', 'Good Move Avg', 'Inaccuracy Move Avg', 'Mistake Move Avg', 'Blunder Move Avg']))"
   ],
   "metadata": {
    "collapsed": false,
    "ExecuteTime": {
     "end_time": "2024-01-04T22:07:58.970240Z",
     "start_time": "2024-01-04T22:07:58.967859Z"
    }
   },
   "id": "b87a63c5b3008281"
  },
  {
   "cell_type": "markdown",
   "source": [
    "From above, we can see that Hikaru spends more time thinking and playing bad moves compared to good moves which is something we also noticed when we were evaluation some of the games in 'On win' section.\n",
    " Let's now compare these stats to \"interesting\" streak games and see if there is any difference in taking good/bad moves in these games compared to all blitz games."
   ],
   "metadata": {
    "collapsed": false
   },
   "id": "ae12d32f60506492"
  },
  {
   "cell_type": "code",
   "execution_count": null,
   "outputs": [],
   "source": [
    "df_plt = streak_games_time_classification_df.set_index('rating_bin').plot(kind='bar', stacked=True, figsize=(7, 6))\n",
    "df_plt.legend(loc='center left', bbox_to_anchor=(1, 0.5))"
   ],
   "metadata": {
    "collapsed": false,
    "ExecuteTime": {
     "start_time": "2024-01-04T22:07:58.969223Z"
    }
   },
   "id": "bfc0208a28e1bf56"
  },
  {
   "cell_type": "code",
   "execution_count": null,
   "outputs": [],
   "source": [
    "numerical_columns = all_blitz_no_streak_time_classification_df.select_dtypes(include='number').columns\n",
    "all_blitz_no_streak_time_classification_subset_df = all_blitz_no_streak_time_classification_df.iloc[9:11, :].reset_index(drop=True)\n",
    "numerical_difference = streak_games_time_classification_df[numerical_columns] - all_blitz_no_streak_time_classification_subset_df[numerical_columns]\n",
    "\n",
    "\n",
    "print(numerical_difference.to_markdown(headers=['Best Move Diff', 'Excellent Move Diff', 'Good Move Diff', 'Inaccuracy Move Diff', 'Mistake Move Diff', 'Blunder Move Diff']))"
   ],
   "metadata": {
    "collapsed": false,
    "ExecuteTime": {
     "start_time": "2024-01-04T22:07:58.970066Z"
    }
   },
   "id": "e31ec9a4ac0e5a47"
  },
  {
   "cell_type": "markdown",
   "source": [
    "These numbers do not deviate a lot from 0 and given they're in seconds I do not see anything \"interesting\" in average time taken by move. \n",
    "<br>\n",
    "\n",
    "So far we looked at overall games statistic. Remember that we also gathered these as per game phase, so we can see differences between endgame and middlegame stats."
   ],
   "metadata": {
    "collapsed": false
   },
   "id": "9f4efff8ff1cb960"
  },
  {
   "cell_type": "code",
   "execution_count": null,
   "outputs": [],
   "source": [
    "for phase in ['middlegame', 'endgame']:\n",
    "    \n",
    "    streak_games_phase_classification_df = streak_games_df.groupby('rating_bin', observed=True).agg({\n",
    "        f'hikaru_stats.best_{phase}_move_perc': 'mean',\n",
    "        f'hikaru_stats.excellent_{phase}_move_perc': 'mean',\n",
    "        f'hikaru_stats.good_{phase}_move_perc': 'mean',\n",
    "        f'hikaru_stats.inaccuracy_{phase}_move_perc': 'mean',\n",
    "        f'hikaru_stats.mistake_{phase}_move_perc': 'mean',\n",
    "        f'hikaru_stats.blunder_{phase}_move_perc': 'mean'\n",
    "    }).reset_index()\n",
    "    \n",
    "    \n",
    "    all_blitz_no_streak_phase_classification_df = all_blitz_no_streak_df.groupby('rating_bin', observed=True).agg({\n",
    "        f'hikaru_stats.best_{phase}_move_perc': 'mean',\n",
    "        f'hikaru_stats.excellent_{phase}_move_perc': 'mean',\n",
    "        f'hikaru_stats.good_{phase}_move_perc': 'mean',\n",
    "        f'hikaru_stats.inaccuracy_{phase}_move_perc': 'mean',\n",
    "        f'hikaru_stats.mistake_{phase}_move_perc': 'mean',\n",
    "        f'hikaru_stats.blunder_{phase}_move_perc': 'mean'\n",
    "    }).reset_index()\n",
    "    \n",
    "    \n",
    "    numerical_columns = all_blitz_no_streak_phase_classification_df.select_dtypes(include='number').columns\n",
    "    all_blitz_no_streak_phase_classification_subset_df = all_blitz_no_streak_phase_classification_df.iloc[9:11, :].reset_index(drop=True)\n",
    "    numerical_difference = streak_games_phase_classification_df[numerical_columns] - all_blitz_no_streak_phase_classification_subset_df[numerical_columns]\n",
    "    \n",
    "    print(f'Differences in move classification percentage for phase {phase}')\n",
    "    print(numerical_difference.to_markdown(headers=['Best Move Diff', 'Excellent Move Diff', 'Good Move Diff', 'Inaccuracy Move Diff', 'Mistake Move Diff', 'Blunder Move Diff']))\n",
    "    print('\\n')"
   ],
   "metadata": {
    "collapsed": false,
    "ExecuteTime": {
     "end_time": "2024-01-04T22:07:58.993957Z",
     "start_time": "2024-01-04T22:07:58.971064Z"
    }
   },
   "id": "b0382de5ee2fa0e3"
  },
  {
   "cell_type": "markdown",
   "source": [
    "Middlegame stats seems to be inline with what we saw overall as Hikaru does make a bit more excellent moves and a bit less of other moves. However, for endgame and specifically for elo rating 3000 - 3100 Hikaru did make 20% more excellent moves in streak compared to all blitz games. This may be interesting, however let's remember that 3000 - 3100 count for only 6 games so lets now see how many excellent endgame moves there was."
   ],
   "metadata": {
    "collapsed": false
   },
   "id": "b24307ed83400bf9"
  },
  {
   "cell_type": "code",
   "execution_count": null,
   "outputs": [],
   "source": [
    "print(streak_games_df.groupby('rating_bin', observed=True).agg({\n",
    "    f'hikaru_stats.excellent_endgame_move_count': 'sum',\n",
    "}))"
   ],
   "metadata": {
    "collapsed": false,
    "ExecuteTime": {
     "start_time": "2024-01-04T22:07:58.971951Z"
    }
   },
   "id": "7a71a0cbf0cbf801"
  },
  {
   "cell_type": "markdown",
   "source": [
    "As there was 33 excellent engame moves over 6 games in this bucket it is not enough to draw any conclusion as sample size is too small to compare with all blitz games."
   ],
   "metadata": {
    "collapsed": false
   },
   "id": "eac6ba2e4013bacf"
  },
  {
   "cell_type": "markdown",
   "source": [
    "Next I want to focus on checking how good/bad moves percentage and timing correlate with information whether Hikaru was loosing by margin (1-5) but winning anyway.\n",
    "\n",
    "TO BE CONTINUED..."
   ],
   "metadata": {
    "collapsed": false
   },
   "id": "52ac3cea5f9f8e52"
  },
  {
   "cell_type": "markdown",
   "source": [
    "### Bonus\n",
    "\n",
    "As Hikaru claims that he is farming elo by cherry-picking opponents, let's put a table with these stats of all opponents who Hikaru played against at least 20 times. This may give Hikaru better insight on which opponents he wants to play when farming elo rating. You can find output file under [file](data/analysis/bonus_stats.csv).\n",
    "\n",
    "This section is not part of analysis, it's just for fun. "
   ],
   "metadata": {
    "collapsed": false
   },
   "id": "4e32bbe6d8afce57"
  },
  {
   "cell_type": "code",
   "execution_count": null,
   "outputs": [],
   "source": [
    "all_opponents = all_blitz_df.groupby('hikaru_stats.opponent_username').size().reset_index(name='Count')\n",
    "opponents_more_then_20_games = all_opponents[all_opponents['Count'] > 20]\n",
    "print(len(opponents_more_then_20_games))\n",
    "\n",
    "filtered_by_20_games_df = all_blitz_df[all_blitz_df['hikaru_stats.opponent_username'].isin(opponents_more_then_20_games['hikaru_stats.opponent_username'])]\n",
    "\n",
    "def first_occurrence(value_series):\n",
    "    return value_series.iloc[0]\n",
    "\n",
    "stats_df = filtered_by_20_games_df.groupby('hikaru_stats.opponent_username', observed=True).agg(\n",
    "    {\n",
    "        'hikaru_stats.opponent_username': first_occurrence,\n",
    "        'hikaru_stats.opponent_rating': 'mean',\n",
    "        'win': ['count', 'mean'],\n",
    "        'timeout_win': 'mean',\n",
    "        'win1': 'mean',\n",
    "        'win2': 'mean',\n",
    "        'win3': 'mean',\n",
    "        'win4': 'mean',\n",
    "        'win5': 'mean',\n",
    "        'hikaru_stats.top_2_move_perc': 'mean',\n",
    "        'hikaru_stats.best_move_perc': 'mean',\n",
    "        'hikaru_stats.excellent_move_perc': 'mean',\n",
    "        'hikaru_stats.good_move_perc': 'mean',\n",
    "        'hikaru_stats.inaccuracy_move_perc': 'mean',\n",
    "        'hikaru_stats.mistake_move_perc': 'mean',\n",
    "        'hikaru_stats.blunder_move_perc': 'mean',\n",
    "        'hikaru_stats.top_2_move_avg': 'mean',\n",
    "        'hikaru_stats.best_move_avg': 'mean',\n",
    "        'hikaru_stats.excellent_move_avg': 'mean',\n",
    "        'hikaru_stats.good_move_avg': 'mean',\n",
    "        'hikaru_stats.inaccuracy_move_avg': 'mean',\n",
    "        'hikaru_stats.mistake_move_avg': 'mean',\n",
    "        'hikaru_stats.blunder_move_avg': 'mean',\n",
    "        'opponent_stats.top_2_move_perc': 'mean',\n",
    "        'opponent_stats.best_move_perc': 'mean',\n",
    "        'opponent_stats.excellent_move_perc': 'mean',\n",
    "        'opponent_stats.good_move_perc': 'mean',\n",
    "        'opponent_stats.inaccuracy_move_perc': 'mean',\n",
    "        'opponent_stats.mistake_move_perc': 'mean',\n",
    "        'opponent_stats.blunder_move_perc': 'mean'\n",
    "     }\n",
    ")\n",
    "\n",
    "stats_df.to_csv('data/analysis/bonus_stats.csv', index=False, header=[\n",
    "    'Opponent',\n",
    "    'Opponent Elo',\n",
    "    'Played count',\n",
    "    'Win avg %',\n",
    "    'Timeout win avg %',\n",
    "    'Was loosing by >=1 but won',\n",
    "    'Was loosing by >=2 but won',\n",
    "    'Was loosing by >=3 but won',\n",
    "    'Was loosing by >=4 but won',\n",
    "    'Was loosing by >=5 but won',\n",
    "    'Hikaru Top 2 Moves %',\n",
    "    'Hikaru Best Move %',\n",
    "    'Hikaru Excellent Move %',\n",
    "    'Hikaru Good Move %',\n",
    "    'Hikaru Inaccuracy Move %',\n",
    "    'Hikaru Mistake Move %',\n",
    "    'Hikaru Blunder Move %',\n",
    "    'Hikaru Top 2 Moves Time Taken Avg',\n",
    "    'Hikaru Best Move Time Taken Avg',\n",
    "    'Hikaru Excellent Move Time Taken Avg',\n",
    "    'Hikaru Good Move Time Taken Avg',\n",
    "    'Hikaru Inaccuracy Move Time Taken Avg',\n",
    "    'Hikaru Mistake Move Time Taken Avg',\n",
    "    'Hikaru Blunder Move Time Taken Avg',\n",
    "    'Opponent Top 2 Moves %',\n",
    "    'Opponent Best Move %',\n",
    "    'Opponent Excellent Move %',\n",
    "    'Opponent Good Move %',\n",
    "    'Opponent Inaccuracy Move %',\n",
    "    'Opponent Mistake Move %',\n",
    "    'Opponent Blunder Move %',\n",
    "])\n"
   ],
   "metadata": {
    "collapsed": false,
    "ExecuteTime": {
     "start_time": "2024-01-04T22:07:58.972922Z"
    }
   },
   "id": "506538720313db40"
  },
  {
   "cell_type": "markdown",
   "source": [
    "## P-value\n",
    "TBD\n",
    "## Bayes\n",
    "TBD"
   ],
   "metadata": {
    "collapsed": false
   },
   "id": "cf35c3548ee1f94b"
  },
  {
   "cell_type": "code",
   "execution_count": null,
   "outputs": [],
   "source": [],
   "metadata": {
    "collapsed": false,
    "ExecuteTime": {
     "start_time": "2024-01-04T22:07:58.973759Z"
    }
   },
   "id": "a9d85e5d5cadd6ad"
  }
 ],
 "metadata": {
  "kernelspec": {
   "display_name": "Python 3",
   "language": "python",
   "name": "python3"
  },
  "language_info": {
   "codemirror_mode": {
    "name": "ipython",
    "version": 2
   },
   "file_extension": ".py",
   "mimetype": "text/x-python",
   "name": "python",
   "nbconvert_exporter": "python",
   "pygments_lexer": "ipython2",
   "version": "2.7.6"
  }
 },
 "nbformat": 4,
 "nbformat_minor": 5
}
